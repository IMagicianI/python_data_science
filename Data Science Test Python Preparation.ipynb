{
 "cells": [
  {
   "cell_type": "markdown",
   "metadata": {},
   "source": [
    "## TOC:\n",
    "* [0.0 Text Analytics : Creating N-grams](#00-bullet)\n",
    "* [0.1 Text Analytics : Basics of Counting (Collections)](#01-bullet)  \n",
    "* [0.2 Text Analytics: RegExp](#02-bullet)\n",
    "* [0.3 Text Analytics: Extracting Email Domains](#03-bullet)\n",
    "* [0.4 Text Analytics: Extracting y sound ending words](#04-bullet)\n",
    "\n",
    "\n",
    "* [1. Exploring Data](#1-bullet)\n",
    "* [1.1 Exploring Data: Pivot Table and Distributions](#1.1-bullet)\n",
    "* [1.2.1 Exploring Data: QUICK Plotting: Scatterr Plot](#1.2.1-bullet)\n",
    "* [1.2.2 Exploring Data: QUICK Plotting: Histogram](#1.2.2-bullet)\n",
    "* [1.2.3 Exploring Data: Line Plot/ Time series plot](#1.2.3-bullet)\n",
    "* [1.2.4 Exploring Data: BARPLOTS](#1.2.4-bullet)\n",
    " \n",
    " \n",
    "* [4. Extend List](#4-bullet)\n",
    "* [5. Use ML Model Later, Import Decision Tree](#5-bullet)\n",
    "\n",
    "* [6. Operating with Date-Times](#6-bullet)\n",
    "\n",
    "* [7. Check Arrays Occupying Same space ](#7th-bullet)\n",
    "* [8. Joining Datasets](#8-bullet)\n",
    "\n",
    "* [9.1 Missing Values in Data Preprocessing](#9.1-bullet)\n",
    "* [9.2 Missing Values upon Reading Data](#9.2-bullet)\n",
    "\n",
    "* [10. Accessing Online Spreadsheet in Python](#10-bullet)\n",
    "\n",
    "\n",
    "\n",
    "* [12. Pandas -- Dataframes](#12-bullet)\n",
    "* [12.1 Pandas -- Adding data, Aggregating ](#12.1-bullet)\n",
    "* [12.2 Pandas - Recoding: w Map and Replace ](#12.2-bullet)\n",
    "* [12.3 Pandas -  Apply Usage  ](#12.3-bullet)\n",
    "* [12.4 Pandas -- Data Types and Filtering (Use &, | -- Bitwise) a ](#12.4-bullet)  \n",
    "\n",
    "\n",
    "* [13. MACHINE LEARNING CASE STUDY](#13-bullet)\n",
    "* [13.0 ML: uNI/Multivariate Plotting ](#13.0-bullet)\n",
    "* [13.1 ML: DATA SPLITTING](#13.1-bullet)\n",
    "* [13.2 ML CLASSIFICATION: MODEL BUILDING AND COMPARISON](#13.2-bullet)  \n",
    "* [13.3 ML: Comparing Algorithms visually](#13.3-bullet)\n",
    "* [13.4 ML: MAKING PREDICTIONS ON TEST DATA ](#13.4-bullet)\n",
    "\n",
    "\n",
    "* [15. Function Execution - Dynamic Typing](#15-bullet)\n",
    "* [16. Converting Monthly Data to Daily Data](#16-bullet)\n",
    "* [17. Pandas -- Rename needs Output](#17-bullet)\n",
    "* [18. Pandas -- Converting Dataframe into Dictionary](#18-bullet)\n",
    "\n",
    "\n",
    "* [20. URL Reading -- Reading Webpage Title with BeautifulSoup ](#20-bullet)\n",
    "\n",
    "\n"
   ]
  },
  {
   "cell_type": "markdown",
   "metadata": {},
   "source": [
    "Source : https://www.analyticsvidhya.com/blog/2017/05/questions-python-for-data-science/\n",
    "https://www.analyticsvidhya.com/blog/2016/09/solutions-data-science-in-python-skilltest/\n",
    "\n",
    "Comparing Pandas with R: https://pandas.pydata.org/pandas-docs/stable/comparison_with_r.html\n",
    "\n",
    "QUICK barplot: train.Category.value_counts().plot(kind='bar') \n",
    "\n",
    "\n",
    "QUICK STACKED BARPLOT: train.unstack().plot(kind='bar',stacked=True, color=['red','blue'], grid=False)\n",
    "\n",
    "QUICK PLOT WITH COLOR INTENSITY CODED with Count: plt.scatter(train.temp,train.atemp,alpha=1,c=train.Count,s=20)\n",
    "QUICK BOXPLOT: train.boxplot(column='temp', by='season')\n",
    "\n",
    "QUICK AUTOCORRELATION PLOT:\n",
    "pd.tools.plotting.autocorrelation_plot(train.temp)\n",
    "\n",
    "\n",
    "Finding features not present in train:\n",
    "set(test.columns).difference(set(train.columns))\n",
    "\n",
    "Checking if all values of product_id in test present in train?\n",
    "set(test.Product_ID.unique()).issubset(set(train.Product_ID.unique()))\n",
    "\n",
    "ÕPETUS: PYTHONIS ON TIHTI 2 VÕIMALUS: KAS ALUSTAD KÄSKU MODULE. või object. ! Näiteks siin jällegi on module-dot (numpy.dot). To view all methods in module, use module-dot."
   ]
  },
  {
   "cell_type": "markdown",
   "metadata": {},
   "source": [
    "# 0. Text Analytics <a class=\"anchor\" id=\"0-bullet\"></a>"
   ]
  },
  {
   "cell_type": "markdown",
   "metadata": {},
   "source": [
    "It's not always necessary to use regular expressions. If we have a string object, then we can use the str.methods in the following way e.g. \n",
    "\n",
    "when want to know how many of names have \"Mr\" contained in them then convert that Series object to string by calling the seriesobject.str and then the string method\n",
    "\n",
    "OR\n",
    "\n",
    "When you want to find records that start with F, then\n",
    "train.Item_Identifier.str.startswith('F')\n",
    "\n"
   ]
  },
  {
   "cell_type": "code",
   "execution_count": 94,
   "metadata": {},
   "outputs": [
    {
     "name": "stdout",
     "output_type": "stream",
     "text": [
      "<class 'pandas.core.strings.StringMethods'>\n"
     ]
    },
    {
     "data": {
      "text/plain": [
       "517"
      ]
     },
     "execution_count": 94,
     "metadata": {},
     "output_type": "execute_result"
    }
   ],
   "source": [
    "print(type(train.Name.str))\n",
    "(train.Name.str.find('Mr.')>0).sum() # notice string conversion like object.str\n"
   ]
  },
  {
   "cell_type": "markdown",
   "metadata": {},
   "source": [
    "# 0.0 N-grams <a class=\"anchor\" id=\"00-bullet\"></a>\n",
    "You want to write a generic code to calculate n-gram of the text. The 2-gram of this sentence would be  [[\"this, \"is\"], [\"is\", \"a\"], [\"a, \"sample\"], [\"sample\", \"text\"]]"
   ]
  },
  {
   "cell_type": "code",
   "execution_count": 101,
   "metadata": {},
   "outputs": [
    {
     "name": "stdout",
     "output_type": "stream",
     "text": [
      "('this', 'is', 'a', 'foo', 'bar', 'sentences')\n",
      "('is', 'a', 'foo', 'bar', 'sentences', 'and')\n",
      "('a', 'foo', 'bar', 'sentences', 'and', 'i')\n",
      "('foo', 'bar', 'sentences', 'and', 'i', 'want')\n",
      "('bar', 'sentences', 'and', 'i', 'want', 'to')\n",
      "('sentences', 'and', 'i', 'want', 'to', 'ngramize')\n",
      "('and', 'i', 'want', 'to', 'ngramize', 'it')\n"
     ]
    }
   ],
   "source": [
    "from nltk import ngrams\n",
    "sentence = 'this is a foo bar sentences and i want to ngramize it'\n",
    "n = 6\n",
    "sixgrams = ngrams(sentence.split(), n)\n",
    "for grams in sixgrams:\n",
    "    print(grams)"
   ]
  },
  {
   "cell_type": "markdown",
   "metadata": {},
   "source": [
    "## 0.1 Basics of Counting (Collections)  <a class=\"anchor\" id=\"01-bullet\"></a>\n",
    "Even simple text analytics cannot use dictionary so easily -- use COLLECTIONS MODULE AND COUNTER OBJECTS TO COUNT SOMETHING!"
   ]
  },
  {
   "cell_type": "code",
   "execution_count": 92,
   "metadata": {
    "collapsed": true
   },
   "outputs": [],
   "source": [
    "reviews = ['movie is unwatchable no matter how decent the first half is  . ', 'somewhat funny and well  paced action thriller that has jamie foxx as a hapless  fast  talking hoodlum who is chosen by an overly demanding', 'morse is okay as the agent who comes up with the ingenious plan to get whoever did it at all cost .']\n",
    "len(reviews)\n",
    "from collections import Counter\n",
    "counts = Counter() # initiate the counter dictionary\n",
    "\n",
    "for i in range(len(reviews)): # for each review\n",
    "    for word in reviews[i].split(' '): # split all reviews on whitespace\n",
    "        counts[word] += 1 # count the words\n",
    "        \n"
   ]
  },
  {
   "cell_type": "markdown",
   "metadata": {},
   "source": [
    "## 0.2 RegExp <a class=\"anchor\" id=\"02-bullet\"></a>\n"
   ]
  },
  {
   "cell_type": "code",
   "execution_count": 1,
   "metadata": {},
   "outputs": [
    {
     "data": {
      "text/plain": [
       "11"
      ]
     },
     "execution_count": 1,
     "metadata": {},
     "output_type": "execute_result"
    }
   ],
   "source": [
    "txt = '''450\n",
    " 00:17:53,457 --> 00:17:56,175\n",
    " Okay, but, um,\n",
    " thanks for being with us.\n",
    "\n",
    "451\n",
    " 00:17:56,175 --> 00:17:58,616\n",
    " But, um, if there's any\n",
    " college kids watching,\n",
    "\n",
    "452\n",
    " 00:17:58,616 --> 00:18:01,610\n",
    " But, um, but, um, but, um,\n",
    " but, um, but, um,\n",
    "\n",
    "453\n",
    " 00:18:01,610 --> 00:18:03,656\n",
    " We have to drink, professor.\n",
    "454\n",
    " 00:18:03,656 --> 00:18:07,507\n",
    " It's the rules.\n",
    " She said \"But, um\"\n",
    "\n",
    "455\n",
    " 00:18:09,788 --> 00:18:12,515\n",
    " But, um, but, um, but, um...\n",
    " god help us all.\n",
    " '''\n",
    " \n",
    "import re\n",
    "\n",
    "a2 = len(re.findall('[B,b]ut, um', txt)) # right answer \n",
    "a2"
   ]
  },
  {
   "cell_type": "markdown",
   "metadata": {},
   "source": [
    "(?<=...)\n",
    "Matches if the current position in the string is preceded by a match for\n",
    "... that ends at the current position. This is called a positive lookbehind \n",
    "assertion. (?<=abc)def will find a match in abcdef, since the lookbehind \n",
    "will back up 3 characters and check if the contained pattern matches"
   ]
  },
  {
   "cell_type": "code",
   "execution_count": 67,
   "metadata": {},
   "outputs": [
    {
     "data": {
      "text/plain": [
       "<_sre.SRE_Match object; span=(0, 1), match='d'>"
      ]
     },
     "execution_count": 67,
     "metadata": {},
     "output_type": "execute_result"
    }
   ],
   "source": [
    "# regexpressions basics\n",
    "import re\n",
    "m = re.search('(?<=abc)def', 'abcdefi')\n",
    "m.group(0)\n",
    "\n",
    "#pattern = re.compile(\"d\")\n",
    "re.search(\"d\",'dog') # match at index 0\n"
   ]
  },
  {
   "cell_type": "code",
   "execution_count": 44,
   "metadata": {},
   "outputs": [
    {
     "data": {
      "text/plain": [
       "['egg', 'mustard']"
      ]
     },
     "execution_count": 44,
     "metadata": {},
     "output_type": "execute_result"
    }
   ],
   "source": [
    "# This example looks for a word following a hyphen:\n",
    "m = re.findall('(?<=-)\\w+', 'spam-egg-mustard') # preceding dash\n",
    "m"
   ]
  },
  {
   "cell_type": "code",
   "execution_count": 78,
   "metadata": {},
   "outputs": [
    {
     "data": {
      "text/plain": [
       "('Isaac', 'Newton')"
      ]
     },
     "execution_count": 78,
     "metadata": {},
     "output_type": "execute_result"
    }
   ],
   "source": [
    "m = re.match(r\"(\\w+) (\\w+)\", \"Isaac Newton, physicist\")\n",
    "m.group(0) # entire match\n",
    "\n",
    "m.group(1)       # The first parenthesized subgroup.\n",
    "'Isaac'\n",
    "m.group(2)       # The second parenthesized subgroup.\n",
    "'Newton'\n",
    "m.group(1, 2)    # Multiple arguments give us a tuple.\n",
    "('Isaac', 'Newton')"
   ]
  },
  {
   "cell_type": "code",
   "execution_count": null,
   "metadata": {
    "collapsed": true
   },
   "outputs": [],
   "source": [
    "(?P<name>...)\n",
    "Similar to regular parentheses, but the substring matched by the group \n",
    "is accessible via the symbolic group name name. \n",
    "Group names must be valid Python identifiers, and each group name\n",
    "must be defined only once within a regular expression. \n",
    "A symbolic group is also a numbered group, just as if the group were not named."
   ]
  },
  {
   "cell_type": "code",
   "execution_count": 79,
   "metadata": {},
   "outputs": [
    {
     "data": {
      "text/plain": [
       "'Reynolds'"
      ]
     },
     "execution_count": 79,
     "metadata": {},
     "output_type": "execute_result"
    }
   ],
   "source": [
    "# Example :\n",
    "m = re.match(r\"(?P<first_name>\\w+) (?P<last_name>\\w+)\", \"Malcolm Reynolds\")\n",
    "m.group('first_name')\n",
    "'Malcolm'\n",
    "m.group('last_name')\n",
    "'Reynolds'"
   ]
  },
  {
   "cell_type": "markdown",
   "metadata": {},
   "source": [
    "# 1. Exploring data <a class=\"anchor\" id=\"1-bullet\"></a>\n"
   ]
  },
  {
   "cell_type": "markdown",
   "metadata": {},
   "source": [
    "# 1.1 Exploring data : Pivot  and CrossTable, Ratios and Distributions <a class=\"anchor\" id=\"1.1-bullet\"></a>\n",
    "**Create a pivot table to see how the distribution of Hours per Week changes as a function of Marital Status and Occupation**\n",
    "Assumes that pandas dataframe 'train' has been created. Then:\n",
    "\n",
    "train.pivot_table(index='Marital.Status', columns='Occupation', values='Hours.Per.Week', aggfunc='sum')"
   ]
  },
  {
   "cell_type": "markdown",
   "metadata": {},
   "source": [
    "**see the distribution of the relationship feature**\n",
    "\n",
    "train['Relationship_Percentage'] = train.Relationship.map(train.Relationship.value_counts()/train.shape[0])"
   ]
  },
  {
   "cell_type": "code",
   "execution_count": 246,
   "metadata": {},
   "outputs": [
    {
     "data": {
      "text/html": [
       "<div>\n",
       "<style>\n",
       "    .dataframe thead tr:only-child th {\n",
       "        text-align: right;\n",
       "    }\n",
       "\n",
       "    .dataframe thead th {\n",
       "        text-align: left;\n",
       "    }\n",
       "\n",
       "    .dataframe tbody tr th {\n",
       "        vertical-align: top;\n",
       "    }\n",
       "</style>\n",
       "<table border=\"1\" class=\"dataframe\">\n",
       "  <thead>\n",
       "    <tr style=\"text-align: right;\">\n",
       "      <th>Survived</th>\n",
       "      <th>0</th>\n",
       "      <th>1</th>\n",
       "    </tr>\n",
       "    <tr>\n",
       "      <th>Pclass</th>\n",
       "      <th></th>\n",
       "      <th></th>\n",
       "    </tr>\n",
       "  </thead>\n",
       "  <tbody>\n",
       "    <tr>\n",
       "      <th>1</th>\n",
       "      <td>80</td>\n",
       "      <td>136</td>\n",
       "    </tr>\n",
       "    <tr>\n",
       "      <th>2</th>\n",
       "      <td>97</td>\n",
       "      <td>87</td>\n",
       "    </tr>\n",
       "    <tr>\n",
       "      <th>3</th>\n",
       "      <td>372</td>\n",
       "      <td>119</td>\n",
       "    </tr>\n",
       "  </tbody>\n",
       "</table>\n",
       "</div>"
      ],
      "text/plain": [
       "Survived    0    1\n",
       "Pclass            \n",
       "1          80  136\n",
       "2          97   87\n",
       "3         372  119"
      ]
     },
     "execution_count": 246,
     "metadata": {},
     "output_type": "execute_result"
    }
   ],
   "source": [
    "# CROSS TABLE\n",
    "#titanic.columns\n",
    "pd.crosstab(titanic['Pclass'],titanic['Survived'])"
   ]
  },
  {
   "cell_type": "code",
   "execution_count": 252,
   "metadata": {},
   "outputs": [
    {
     "data": {
      "text/html": [
       "<div>\n",
       "<style>\n",
       "    .dataframe thead tr:only-child th {\n",
       "        text-align: right;\n",
       "    }\n",
       "\n",
       "    .dataframe thead th {\n",
       "        text-align: left;\n",
       "    }\n",
       "\n",
       "    .dataframe tbody tr th {\n",
       "        vertical-align: top;\n",
       "    }\n",
       "</style>\n",
       "<table border=\"1\" class=\"dataframe\">\n",
       "  <thead>\n",
       "    <tr style=\"text-align: right;\">\n",
       "      <th>Survived</th>\n",
       "      <th>0</th>\n",
       "      <th>1</th>\n",
       "    </tr>\n",
       "    <tr>\n",
       "      <th>Pclass</th>\n",
       "      <th></th>\n",
       "      <th></th>\n",
       "    </tr>\n",
       "  </thead>\n",
       "  <tbody>\n",
       "    <tr>\n",
       "      <th>1</th>\n",
       "      <td>80</td>\n",
       "      <td>136</td>\n",
       "    </tr>\n",
       "    <tr>\n",
       "      <th>2</th>\n",
       "      <td>97</td>\n",
       "      <td>87</td>\n",
       "    </tr>\n",
       "    <tr>\n",
       "      <th>3</th>\n",
       "      <td>372</td>\n",
       "      <td>119</td>\n",
       "    </tr>\n",
       "  </tbody>\n",
       "</table>\n",
       "</div>"
      ],
      "text/plain": [
       "Survived    0    1\n",
       "Pclass            \n",
       "1          80  136\n",
       "2          97   87\n",
       "3         372  119"
      ]
     },
     "execution_count": 252,
     "metadata": {},
     "output_type": "execute_result"
    }
   ],
   "source": [
    "# PIVOT TABLE\n",
    "titanic.pivot_table(index='Pclass',columns='Survived',values=\"Parch\",aggfunc='count')"
   ]
  },
  {
   "cell_type": "code",
   "execution_count": 100,
   "metadata": {},
   "outputs": [
    {
     "data": {
      "text/html": [
       "<div>\n",
       "<style>\n",
       "    .dataframe thead tr:only-child th {\n",
       "        text-align: right;\n",
       "    }\n",
       "\n",
       "    .dataframe thead th {\n",
       "        text-align: left;\n",
       "    }\n",
       "\n",
       "    .dataframe tbody tr th {\n",
       "        vertical-align: top;\n",
       "    }\n",
       "</style>\n",
       "<table border=\"1\" class=\"dataframe\">\n",
       "  <thead>\n",
       "    <tr style=\"text-align: right;\">\n",
       "      <th></th>\n",
       "      <th>PassengerId</th>\n",
       "      <th>Survived</th>\n",
       "      <th>Pclass</th>\n",
       "      <th>Name</th>\n",
       "      <th>Sex</th>\n",
       "      <th>Age</th>\n",
       "      <th>SibSp</th>\n",
       "      <th>Parch</th>\n",
       "      <th>Ticket</th>\n",
       "      <th>Fare</th>\n",
       "      <th>Cabin</th>\n",
       "      <th>Embarked</th>\n",
       "      <th>Missing_Cabin</th>\n",
       "      <th>Pclass_percentage</th>\n",
       "    </tr>\n",
       "  </thead>\n",
       "  <tbody>\n",
       "    <tr>\n",
       "      <th>0</th>\n",
       "      <td>1</td>\n",
       "      <td>0</td>\n",
       "      <td>3</td>\n",
       "      <td>Braund, Mr. Owen Harris</td>\n",
       "      <td>male</td>\n",
       "      <td>22.0</td>\n",
       "      <td>1</td>\n",
       "      <td>0</td>\n",
       "      <td>A/5 21171</td>\n",
       "      <td>7.2500</td>\n",
       "      <td>NaN</td>\n",
       "      <td>S</td>\n",
       "      <td>1</td>\n",
       "      <td>0.551066</td>\n",
       "    </tr>\n",
       "    <tr>\n",
       "      <th>1</th>\n",
       "      <td>2</td>\n",
       "      <td>1</td>\n",
       "      <td>1</td>\n",
       "      <td>Cumings, Mrs. John Bradley (Florence Briggs Th...</td>\n",
       "      <td>female</td>\n",
       "      <td>38.0</td>\n",
       "      <td>1</td>\n",
       "      <td>0</td>\n",
       "      <td>PC 17599</td>\n",
       "      <td>71.2833</td>\n",
       "      <td>C85</td>\n",
       "      <td>C</td>\n",
       "      <td>0</td>\n",
       "      <td>0.242424</td>\n",
       "    </tr>\n",
       "    <tr>\n",
       "      <th>2</th>\n",
       "      <td>3</td>\n",
       "      <td>1</td>\n",
       "      <td>3</td>\n",
       "      <td>Heikkinen, Miss. Laina</td>\n",
       "      <td>female</td>\n",
       "      <td>26.0</td>\n",
       "      <td>0</td>\n",
       "      <td>0</td>\n",
       "      <td>STON/O2. 3101282</td>\n",
       "      <td>7.9250</td>\n",
       "      <td>NaN</td>\n",
       "      <td>S</td>\n",
       "      <td>1</td>\n",
       "      <td>0.551066</td>\n",
       "    </tr>\n",
       "    <tr>\n",
       "      <th>3</th>\n",
       "      <td>4</td>\n",
       "      <td>1</td>\n",
       "      <td>1</td>\n",
       "      <td>Futrelle, Mrs. Jacques Heath (Lily May Peel)</td>\n",
       "      <td>female</td>\n",
       "      <td>35.0</td>\n",
       "      <td>1</td>\n",
       "      <td>0</td>\n",
       "      <td>113803</td>\n",
       "      <td>53.1000</td>\n",
       "      <td>C123</td>\n",
       "      <td>S</td>\n",
       "      <td>0</td>\n",
       "      <td>0.242424</td>\n",
       "    </tr>\n",
       "    <tr>\n",
       "      <th>4</th>\n",
       "      <td>5</td>\n",
       "      <td>0</td>\n",
       "      <td>3</td>\n",
       "      <td>Allen, Mr. William Henry</td>\n",
       "      <td>male</td>\n",
       "      <td>35.0</td>\n",
       "      <td>0</td>\n",
       "      <td>0</td>\n",
       "      <td>373450</td>\n",
       "      <td>8.0500</td>\n",
       "      <td>NaN</td>\n",
       "      <td>S</td>\n",
       "      <td>1</td>\n",
       "      <td>0.551066</td>\n",
       "    </tr>\n",
       "  </tbody>\n",
       "</table>\n",
       "</div>"
      ],
      "text/plain": [
       "   PassengerId  Survived  Pclass  \\\n",
       "0            1         0       3   \n",
       "1            2         1       1   \n",
       "2            3         1       3   \n",
       "3            4         1       1   \n",
       "4            5         0       3   \n",
       "\n",
       "                                                Name     Sex   Age  SibSp  \\\n",
       "0                            Braund, Mr. Owen Harris    male  22.0      1   \n",
       "1  Cumings, Mrs. John Bradley (Florence Briggs Th...  female  38.0      1   \n",
       "2                             Heikkinen, Miss. Laina  female  26.0      0   \n",
       "3       Futrelle, Mrs. Jacques Heath (Lily May Peel)  female  35.0      1   \n",
       "4                           Allen, Mr. William Henry    male  35.0      0   \n",
       "\n",
       "   Parch            Ticket     Fare Cabin Embarked  Missing_Cabin  \\\n",
       "0      0         A/5 21171   7.2500   NaN        S              1   \n",
       "1      0          PC 17599  71.2833   C85        C              0   \n",
       "2      0  STON/O2. 3101282   7.9250   NaN        S              1   \n",
       "3      0            113803  53.1000  C123        S              0   \n",
       "4      0            373450   8.0500   NaN        S              1   \n",
       "\n",
       "   Pclass_percentage  \n",
       "0           0.551066  \n",
       "1           0.242424  \n",
       "2           0.551066  \n",
       "3           0.242424  \n",
       "4           0.551066  "
      ]
     },
     "execution_count": 100,
     "metadata": {},
     "output_type": "execute_result"
    }
   ],
   "source": [
    "train['Pclass_percentage']=train.Pclass.map(train.Pclass.value_counts()/train.shape[0])\n",
    "train.head()"
   ]
  },
  {
   "cell_type": "code",
   "execution_count": 186,
   "metadata": {},
   "outputs": [
    {
     "data": {
      "text/html": [
       "<div>\n",
       "<style>\n",
       "    .dataframe thead tr:only-child th {\n",
       "        text-align: right;\n",
       "    }\n",
       "\n",
       "    .dataframe thead th {\n",
       "        text-align: left;\n",
       "    }\n",
       "\n",
       "    .dataframe tbody tr th {\n",
       "        vertical-align: top;\n",
       "    }\n",
       "</style>\n",
       "<table border=\"1\" class=\"dataframe\">\n",
       "  <thead>\n",
       "    <tr style=\"text-align: right;\">\n",
       "      <th></th>\n",
       "      <th>id</th>\n",
       "      <th>view</th>\n",
       "      <th>value</th>\n",
       "    </tr>\n",
       "  </thead>\n",
       "  <tbody>\n",
       "    <tr>\n",
       "      <th>0</th>\n",
       "      <td>1</td>\n",
       "      <td>A</td>\n",
       "      <td>0.543405</td>\n",
       "    </tr>\n",
       "    <tr>\n",
       "      <th>3</th>\n",
       "      <td>2</td>\n",
       "      <td>A</td>\n",
       "      <td>0.844776</td>\n",
       "    </tr>\n",
       "    <tr>\n",
       "      <th>5</th>\n",
       "      <td>3</td>\n",
       "      <td>A</td>\n",
       "      <td>0.121569</td>\n",
       "    </tr>\n",
       "    <tr>\n",
       "      <th>9</th>\n",
       "      <td>4</td>\n",
       "      <td>B</td>\n",
       "      <td>0.575093</td>\n",
       "    </tr>\n",
       "    <tr>\n",
       "      <th>11</th>\n",
       "      <td>5</td>\n",
       "      <td>B</td>\n",
       "      <td>0.209202</td>\n",
       "    </tr>\n",
       "  </tbody>\n",
       "</table>\n",
       "</div>"
      ],
      "text/plain": [
       "    id view     value\n",
       "0    1    A  0.543405\n",
       "3    2    A  0.844776\n",
       "5    3    A  0.121569\n",
       "9    4    B  0.575093\n",
       "11   5    B  0.209202"
      ]
     },
     "execution_count": 186,
     "metadata": {},
     "output_type": "execute_result"
    }
   ],
   "source": [
    "df.head()"
   ]
  },
  {
   "cell_type": "markdown",
   "metadata": {},
   "source": [
    "## 1.2. Exploring Data: QUICK Plotting <a class=\"anchor\" id=\"1.2-bullet\"></a>\n",
    "Source for Pandas: https://pandas.pydata.org/pandas-docs/stable/visualization.html"
   ]
  },
  {
   "cell_type": "markdown",
   "metadata": {},
   "source": [
    "## 1.2.1 Exploring Data: Scatter Plot <a class=\"anchor\" id=\"1.2.1-bullet\"></a>\n"
   ]
  },
  {
   "cell_type": "code",
   "execution_count": 204,
   "metadata": {},
   "outputs": [
    {
     "name": "stdout",
     "output_type": "stream",
     "text": [
      "   sepal_length  sepal_width  petal_length  petal_width species\n",
      "0           5.1          3.5           1.4          0.2  setosa\n",
      "1           4.9          3.0           1.4          0.2  setosa\n",
      "2           4.7          3.2           1.3          0.2  setosa\n",
      "3           4.6          3.1           1.5          0.2  setosa\n",
      "4           5.0          3.6           1.4          0.2  setosa\n"
     ]
    },
    {
     "data": {
      "image/png": "[encoded data removed]",
      "text/plain": [
       "<matplotlib.figure.Figure at 0x2c5caaf2240>"
      ]
     },
     "metadata": {},
     "output_type": "display_data"
    }
   ],
   "source": [
    "# also interactive plots with Plotly: https://plot.ly/python/line-and-scatter/\n",
    "import numpy as np\n",
    "import matplotlib.pyplot as plt\n",
    "import seaborn as sns\n",
    "df = sns.load_dataset('iris')\n",
    "print(df.head())\n",
    "# with regression\n",
    "sns.pairplot(df, kind=\"reg\", hue=\"species\", markers=[\"o\", \"s\", \"D\"], palette=\"Set2\") # kind = 'scatter'\n",
    "plt.show()\n",
    "\n"
   ]
  },
  {
   "cell_type": "code",
   "execution_count": 203,
   "metadata": {},
   "outputs": [
    {
     "data": {
      "image/png": "[encoded data removed]",
      "text/plain": [
       "<matplotlib.figure.Figure at 0x2c5cadac898>"
      ]
     },
     "metadata": {},
     "output_type": "display_data"
    }
   ],
   "source": [
    "girls_grades = [89, 90, 70, 89, 100, 80, 90, 100, 80, 34]\n",
    "boys_grades = [30, 29, 49, 48, 100, 48, 38, 45, 20, 30]\n",
    "grades_range = [10, 20, 30, 40, 50, 60, 70, 80, 90, 100]\n",
    "plt.scatter(grades_range, girls_grades, color='r')\n",
    "plt.scatter(grades_range, boys_grades, color='g')\n",
    "plt.xlabel('Grades Range')\n",
    "plt.ylabel('Grades Scored')\n",
    "plt.show()\n"
   ]
  },
  {
   "cell_type": "markdown",
   "metadata": {},
   "source": [
    "## 1.2.2 Exploring Data: Histogram <a class=\"anchor\" id=\"1.2.2-bullet\"></a>"
   ]
  },
  {
   "cell_type": "code",
   "execution_count": 245,
   "metadata": {},
   "outputs": [
    {
     "data": {
      "text/plain": [
       "<matplotlib.axes._subplots.AxesSubplot at 0x2c5ca13c518>"
      ]
     },
     "execution_count": 245,
     "metadata": {},
     "output_type": "execute_result"
    },
    {
     "data": {
      "image/png": "[encoded data removed]",
      "text/plain": [
       "<matplotlib.figure.Figure at 0x2c5c7136ef0>"
      ]
     },
     "metadata": {},
     "output_type": "display_data"
    },
    {
     "data": {
      "image/png": "[encoded data removed]",
      "text/plain": [
       "<matplotlib.figure.Figure at 0x2c5cadb03c8>"
      ]
     },
     "metadata": {},
     "output_type": "display_data"
    }
   ],
   "source": [
    "train.head()\n",
    "plt.gcf().clear()\n",
    "\n",
    "import matplotlib.pyplot as plt\n",
    "import numpy as np\n",
    "%matplotlib inline\n",
    "x = np.random.normal(size = 1000)\n",
    "plt.hist(x, normed=True, bins=30)\n",
    "plt.ylabel('Probability');\n",
    "\n",
    "\n",
    "# or using directly PANDAS\n",
    "\n",
    "df4 = pd.DataFrame({'a': np.random.randn(1000) + 1, 'b': np.random.randn(1000),\n",
    "                   'c': np.random.randn(1000) - 1}, columns=['a', 'b', 'c'])\n",
    "\n",
    "df4.plot.hist(alpha=0.5)"
   ]
  },
  {
   "cell_type": "markdown",
   "metadata": {},
   "source": [
    "## 1.2.3 Exploring Data: TIME SERIES / LINE PLOTS <a class=\"anchor\" id=\"1.2.3-bullet\"></a>"
   ]
  },
  {
   "cell_type": "code",
   "execution_count": 234,
   "metadata": {},
   "outputs": [
    {
     "data": {
      "image/png": "[encoded data removed]",
      "text/plain": [
       "<matplotlib.figure.Figure at 0x2c5c8927c50>"
      ]
     },
     "metadata": {},
     "output_type": "display_data"
    }
   ],
   "source": [
    "ts = pd.Series(np.random.randn(1000), index=pd.date_range('1/1/2000', periods=1000))\n",
    "data = pd.DataFrame(np.random.randn(1000, 4), index=ts.index, columns=list('ABCD'))\n",
    "\n",
    "data.sum = data.cumsum()\n",
    "\n",
    "%matplotlib inline\n",
    "data.sum.plot();\n",
    "\n"
   ]
  },
  {
   "cell_type": "markdown",
   "metadata": {},
   "source": [
    "## 1.2.4 Exploring Data: BARPLOTS <a class=\"anchor\" id=\"1.2.4-bullet\"></a>"
   ]
  },
  {
   "cell_type": "code",
   "execution_count": 253,
   "metadata": {},
   "outputs": [
    {
     "data": {
      "image/png": "[encoded data removed]",
      "text/plain": [
       "<matplotlib.figure.Figure at 0x2c5c87f4cc0>"
      ]
     },
     "metadata": {},
     "output_type": "display_data"
    },
    {
     "data": {
      "image/png": "[encoded data removed]",
      "text/plain": [
       "<matplotlib.figure.Figure at 0x2c5c8ef92b0>"
      ]
     },
     "metadata": {},
     "output_type": "display_data"
    }
   ],
   "source": [
    "%matplotlib inline\n",
    "bardata = pd.DataFrame(np.random.rand(10, 4), columns=['a', 'b', 'c', 'd'])\n",
    "bardata.plot.bar();\n",
    "bardata.plot.box();"
   ]
  },
  {
   "cell_type": "code",
   "execution_count": 273,
   "metadata": {},
   "outputs": [
    {
     "data": {
      "image/png": "[encoded data removed]",
      "text/plain": [
       "<matplotlib.figure.Figure at 0x2c5cc082320>"
      ]
     },
     "metadata": {},
     "output_type": "display_data"
    },
    {
     "data": {
      "image/png": "[encoded data removed]",
      "text/plain": [
       "<matplotlib.figure.Figure at 0x2c5cc190588>"
      ]
     },
     "metadata": {},
     "output_type": "display_data"
    }
   ],
   "source": [
    "bardata.plot.bar(stacked=True)\n",
    "import matplotlib.pyplot as plt\n",
    "brics_g = brics.groupby(['country']).population.sum().reset_index().sort_values('population',ascending=False)\n",
    "brics_g.plot(kind='bar',stacked=True)\n",
    "plt.show()"
   ]
  },
  {
   "cell_type": "code",
   "execution_count": 241,
   "metadata": {},
   "outputs": [
    {
     "data": {
      "image/png": "[encoded data removed]",
      "text/plain": [
       "<IPython.core.display.Image object>"
      ]
     },
     "execution_count": 241,
     "metadata": {},
     "output_type": "execute_result"
    }
   ],
   "source": [
    "from IPython.display import Image\n",
    "Image(filename='otherplots.PNG')"
   ]
  },
  {
   "cell_type": "code",
   "execution_count": null,
   "metadata": {
    "collapsed": true
   },
   "outputs": [],
   "source": [
    "fig=plt.figure()\n",
    "for i in range(0,7):\n",
    "    fig.add_subplot(3,3,i)\n",
    "    t1=train[train['day']==i]      \n",
    "    t1.groupby(['hour'])['count'].sum().plot(kind='bar')"
   ]
  },
  {
   "cell_type": "markdown",
   "metadata": {},
   "source": [
    "## 0.3. Extracting Email Domain Names <a class=\"anchor\" id=\"03-bullet\"></a>\n"
   ]
  },
  {
   "cell_type": "code",
   "execution_count": 42,
   "metadata": {
    "collapsed": true
   },
   "outputs": [],
   "source": [
    "str =\"\"\"Email_Address,Nickname,Group_Status,Join_Year\n",
    "aa@aaa.com,aa,Owner,2014\n",
    "bb@bbb.com,bb,Member,2015\n",
    "cc@ccc.com,cc,Member,2017\n",
    "dd@ddd.com,dd,Member,2016\n",
    "ee@eee.com,ee,Member,2020\"\"\""
   ]
  },
  {
   "cell_type": "code",
   "execution_count": 18,
   "metadata": {},
   "outputs": [
    {
     "name": "stdout",
     "output_type": "stream",
     "text": [
      "aaa\n",
      "bbb\n",
      "ccc\n",
      "ddd\n",
      "eee\n"
     ]
    }
   ],
   "source": [
    "for i in re.finditer('([a-zA-Z]+)@([a-zA-Z]+).(com)', str):\n",
    "    print(i.group(2))"
   ]
  },
  {
   "cell_type": "code",
   "execution_count": 184,
   "metadata": {},
   "outputs": [
    {
     "data": {
      "text/plain": [
       "['tom_142@gmail.com']"
      ]
     },
     "execution_count": 184,
     "metadata": {},
     "output_type": "execute_result"
    }
   ],
   "source": [
    "string = 'hiseail blabla is mailto:tom_142@gmail.com please mail'\n",
    "match=re.findall(r\"[\\w_]+@[\\w.]+\",string)\n",
    "match"
   ]
  },
  {
   "cell_type": "markdown",
   "metadata": {},
   "source": [
    "## 0.4 Extracting y sound ending words <a class=\"anchor\" id=\"04-bullet\"></a>\n"
   ]
  },
  {
   "cell_type": "code",
   "execution_count": 45,
   "metadata": {},
   "outputs": [],
   "source": [
    "import re\n",
    "pattern = '(i$|ie$)(,)' # finds i or ie endings !\n",
    "temp = []\n",
    "for i in re.finditer(pattern, str):\n",
    "    temp.append(i.group(1))"
   ]
  },
  {
   "cell_type": "code",
   "execution_count": 46,
   "metadata": {},
   "outputs": [
    {
     "data": {
      "text/plain": [
       "[]"
      ]
     },
     "execution_count": 46,
     "metadata": {},
     "output_type": "execute_result"
    }
   ],
   "source": [
    "temp"
   ]
  },
  {
   "cell_type": "markdown",
   "metadata": {},
   "source": [
    "# 4. Concatenating Lists <a class=\"anchor\" id=\"4-bullet\"></a>\n"
   ]
  },
  {
   "cell_type": "markdown",
   "metadata": {},
   "source": [
    "Question Context 4\n",
    "\n",
    "Assume, you are given two lists:\n",
    "\n",
    "a = [1,2,3,4,5]\n",
    "\n",
    "b = [6,7,8,9]\n",
    "\n",
    "The task is to create a list which has all the elements of a and b in one dimension.\n",
    "\n",
    "Output:\n",
    "\n",
    "a = [1,2,3,4,5,6,7,8,9]"
   ]
  },
  {
   "cell_type": "code",
   "execution_count": 49,
   "metadata": {},
   "outputs": [
    {
     "data": {
      "text/plain": [
       "[1, 2, 3, 4, 5, 6, 7, 8, 9]"
      ]
     },
     "execution_count": 49,
     "metadata": {},
     "output_type": "execute_result"
    }
   ],
   "source": [
    "a = [1,2,3,4,5]\n",
    "b = [6,7,8,9]\n",
    "#a.extend(b) # concatenating 2 lists with the EXTEND COMMAND\n",
    "#a\n",
    "c = a+b\n",
    "c"
   ]
  },
  {
   "cell_type": "markdown",
   "metadata": {},
   "source": [
    "# 5. Using ML Model later, Importing Decision Tree <a class=\"anchor\" id=\"5-bullet\"></a>\n"
   ]
  },
  {
   "cell_type": "markdown",
   "metadata": {},
   "source": [
    "You have built a machine learning model which you wish to freeze now and use later. \n",
    "Which of the following command can perform this task for you?\n",
    "\n",
    "answer : dump(model, “file”) using PICKLE\n",
    "\n",
    "**Importing decision tree classifier:**\n",
    "\n",
    "from sklearn.tree import DecisionTreeClassifier"
   ]
  },
  {
   "cell_type": "markdown",
   "metadata": {},
   "source": [
    "# 6. Operating with Date-Times <a class=\"anchor\" id=\"6-bullet\"></a>\n",
    "\n"
   ]
  },
  {
   "cell_type": "markdown",
   "metadata": {},
   "source": [
    "** Case 1: we have Pandas Series Object, Convert to Datetime **"
   ]
  },
  {
   "cell_type": "code",
   "execution_count": null,
   "metadata": {
    "collapsed": true
   },
   "outputs": [],
   "source": [
    "train['Date_time_of_event'] = pd.to_datetime(train.Date_time_of_event, format=\"%d-%m-%Y %H:%M\")"
   ]
  },
  {
   "cell_type": "markdown",
   "metadata": {},
   "source": [
    "** Case 1.1 Extracting date parameters from Datetime object **"
   ]
  },
  {
   "cell_type": "code",
   "execution_count": 105,
   "metadata": {},
   "outputs": [
    {
     "data": {
      "text/plain": [
       "Index(['PassengerId', 'Survived', 'Pclass', 'Name', 'Sex', 'Age', 'SibSp',\n",
       "       'Parch', 'Ticket', 'Fare', 'Cabin', 'Embarked', 'Missing_Cabin',\n",
       "       'Pclass_percentage'],\n",
       "      dtype='object')"
      ]
     },
     "execution_count": 105,
     "metadata": {},
     "output_type": "execute_result"
    }
   ],
   "source": [
    "# to extract days\n",
    "#train.Date_time_of_event.dt.day\n"
   ]
  },
  {
   "cell_type": "markdown",
   "metadata": {},
   "source": [
    "**Formatting DateTime object -- CONVERT TO UNIX FORMAT and Finding Time Difference**"
   ]
  },
  {
   "cell_type": "code",
   "execution_count": 116,
   "metadata": {},
   "outputs": [
    {
     "data": {
      "text/html": [
       "<div>\n",
       "<style>\n",
       "    .dataframe thead tr:only-child th {\n",
       "        text-align: right;\n",
       "    }\n",
       "\n",
       "    .dataframe thead th {\n",
       "        text-align: left;\n",
       "    }\n",
       "\n",
       "    .dataframe tbody tr th {\n",
       "        vertical-align: top;\n",
       "    }\n",
       "</style>\n",
       "<table border=\"1\" class=\"dataframe\">\n",
       "  <thead>\n",
       "    <tr style=\"text-align: right;\">\n",
       "      <th></th>\n",
       "      <th>A</th>\n",
       "      <th>B</th>\n",
       "      <th>C</th>\n",
       "      <th>D</th>\n",
       "      <th>E</th>\n",
       "      <th>F</th>\n",
       "      <th>unix_time</th>\n",
       "      <th>time_diff</th>\n",
       "    </tr>\n",
       "  </thead>\n",
       "  <tbody>\n",
       "    <tr>\n",
       "      <th>0</th>\n",
       "      <td>1.0</td>\n",
       "      <td>2013-01-02</td>\n",
       "      <td>1.0</td>\n",
       "      <td>3</td>\n",
       "      <td>test</td>\n",
       "      <td>foo</td>\n",
       "      <td>2013-01-02</td>\n",
       "      <td>1957 days 15:13:17.518370</td>\n",
       "    </tr>\n",
       "    <tr>\n",
       "      <th>1</th>\n",
       "      <td>1.0</td>\n",
       "      <td>2013-01-02</td>\n",
       "      <td>1.0</td>\n",
       "      <td>3</td>\n",
       "      <td>train</td>\n",
       "      <td>foo</td>\n",
       "      <td>2013-01-02</td>\n",
       "      <td>1957 days 15:13:17.518370</td>\n",
       "    </tr>\n",
       "    <tr>\n",
       "      <th>2</th>\n",
       "      <td>1.0</td>\n",
       "      <td>2013-01-02</td>\n",
       "      <td>1.0</td>\n",
       "      <td>3</td>\n",
       "      <td>test</td>\n",
       "      <td>foo</td>\n",
       "      <td>2013-01-02</td>\n",
       "      <td>1957 days 15:13:17.518370</td>\n",
       "    </tr>\n",
       "    <tr>\n",
       "      <th>3</th>\n",
       "      <td>1.0</td>\n",
       "      <td>2013-01-02</td>\n",
       "      <td>1.0</td>\n",
       "      <td>3</td>\n",
       "      <td>train</td>\n",
       "      <td>foo</td>\n",
       "      <td>2013-01-02</td>\n",
       "      <td>1957 days 15:13:17.518370</td>\n",
       "    </tr>\n",
       "  </tbody>\n",
       "</table>\n",
       "</div>"
      ],
      "text/plain": [
       "     A          B    C  D      E    F  unix_time                 time_diff\n",
       "0  1.0 2013-01-02  1.0  3   test  foo 2013-01-02 1957 days 15:13:17.518370\n",
       "1  1.0 2013-01-02  1.0  3  train  foo 2013-01-02 1957 days 15:13:17.518370\n",
       "2  1.0 2013-01-02  1.0  3   test  foo 2013-01-02 1957 days 15:13:17.518370\n",
       "3  1.0 2013-01-02  1.0  3  train  foo 2013-01-02 1957 days 15:13:17.518370"
      ]
     },
     "execution_count": 116,
     "metadata": {},
     "output_type": "execute_result"
    }
   ],
   "source": [
    "df2['unix_time']=pd.to_datetime(df2['B'],unit='s')\n",
    "df2.head()\n",
    "\n",
    "df2['time_diff'] = pd.datetime.now()-df2.unix_time\n",
    "df2.head()"
   ]
  },
  {
   "cell_type": "markdown",
   "metadata": {},
   "source": [
    "** In  time variable , Replace day with first day of month **\n"
   ]
  },
  {
   "cell_type": "code",
   "execution_count": 120,
   "metadata": {},
   "outputs": [
    {
     "data": {
      "text/html": [
       "<div>\n",
       "<style>\n",
       "    .dataframe thead tr:only-child th {\n",
       "        text-align: right;\n",
       "    }\n",
       "\n",
       "    .dataframe thead th {\n",
       "        text-align: left;\n",
       "    }\n",
       "\n",
       "    .dataframe tbody tr th {\n",
       "        vertical-align: top;\n",
       "    }\n",
       "</style>\n",
       "<table border=\"1\" class=\"dataframe\">\n",
       "  <thead>\n",
       "    <tr style=\"text-align: right;\">\n",
       "      <th></th>\n",
       "      <th>A</th>\n",
       "      <th>B</th>\n",
       "      <th>C</th>\n",
       "      <th>D</th>\n",
       "      <th>E</th>\n",
       "      <th>F</th>\n",
       "      <th>unix_time</th>\n",
       "      <th>time_diff</th>\n",
       "    </tr>\n",
       "  </thead>\n",
       "  <tbody>\n",
       "    <tr>\n",
       "      <th>0</th>\n",
       "      <td>1.0</td>\n",
       "      <td>2013-01-02</td>\n",
       "      <td>1.0</td>\n",
       "      <td>3</td>\n",
       "      <td>test</td>\n",
       "      <td>foo</td>\n",
       "      <td>2013-01-01</td>\n",
       "      <td>1957 days 15:13:17.518370</td>\n",
       "    </tr>\n",
       "    <tr>\n",
       "      <th>1</th>\n",
       "      <td>1.0</td>\n",
       "      <td>2013-01-02</td>\n",
       "      <td>1.0</td>\n",
       "      <td>3</td>\n",
       "      <td>train</td>\n",
       "      <td>foo</td>\n",
       "      <td>2013-01-01</td>\n",
       "      <td>1957 days 15:13:17.518370</td>\n",
       "    </tr>\n",
       "    <tr>\n",
       "      <th>2</th>\n",
       "      <td>1.0</td>\n",
       "      <td>2013-01-02</td>\n",
       "      <td>1.0</td>\n",
       "      <td>3</td>\n",
       "      <td>test</td>\n",
       "      <td>foo</td>\n",
       "      <td>2013-01-01</td>\n",
       "      <td>1957 days 15:13:17.518370</td>\n",
       "    </tr>\n",
       "    <tr>\n",
       "      <th>3</th>\n",
       "      <td>1.0</td>\n",
       "      <td>2013-01-02</td>\n",
       "      <td>1.0</td>\n",
       "      <td>3</td>\n",
       "      <td>train</td>\n",
       "      <td>foo</td>\n",
       "      <td>2013-01-01</td>\n",
       "      <td>1957 days 15:13:17.518370</td>\n",
       "    </tr>\n",
       "  </tbody>\n",
       "</table>\n",
       "</div>"
      ],
      "text/plain": [
       "     A          B    C  D      E    F  unix_time                 time_diff\n",
       "0  1.0 2013-01-02  1.0  3   test  foo 2013-01-01 1957 days 15:13:17.518370\n",
       "1  1.0 2013-01-02  1.0  3  train  foo 2013-01-01 1957 days 15:13:17.518370\n",
       "2  1.0 2013-01-02  1.0  3   test  foo 2013-01-01 1957 days 15:13:17.518370\n",
       "3  1.0 2013-01-02  1.0  3  train  foo 2013-01-01 1957 days 15:13:17.518370"
      ]
     },
     "execution_count": 120,
     "metadata": {},
     "output_type": "execute_result"
    }
   ],
   "source": [
    "df2['unix_time'] = df2.unix_time.apply(lambda x: x.replace(day=1))\n",
    "df2.tail()"
   ]
  },
  {
   "cell_type": "code",
   "execution_count": 165,
   "metadata": {},
   "outputs": [],
   "source": [
    "import random\n",
    "data = (np.random.uniform(-1,0,1000).reshape(500,2))\n",
    "# remember: cumsum over rows stays in the column, so axis=1 (stay in column)\n",
    "#data\n",
    "#.cumsum(axis=0)\n",
    "#np.cumsum(data,axis=1,out=data)\n"
   ]
  },
  {
   "cell_type": "markdown",
   "metadata": {},
   "source": [
    "** Case 2: we have a String object **"
   ]
  },
  {
   "cell_type": "code",
   "execution_count": 100,
   "metadata": {
    "collapsed": true
   },
   "outputs": [],
   "source": [
    "# We want to convert the below string in date-time value:\n",
    "import time\n",
    "str = '21/01/2017'\n",
    "# datetime_value = time.strptime(str,date_format)\n",
    "# What should be the date_format?"
   ]
  },
  {
   "cell_type": "code",
   "execution_count": 101,
   "metadata": {},
   "outputs": [
    {
     "data": {
      "text/plain": [
       "time.struct_time(tm_year=2017, tm_mon=1, tm_mday=21, tm_hour=0, tm_min=0, tm_sec=0, tm_wday=5, tm_yday=21, tm_isdst=-1)"
      ]
     },
     "execution_count": 101,
     "metadata": {},
     "output_type": "execute_result"
    }
   ],
   "source": [
    "date_format = \"%d/%m/%Y\" # notice that year is capitcalized!\n",
    "datetime_value = time.strptime(str,date_format)\n",
    "datetime_value"
   ]
  },
  {
   "cell_type": "markdown",
   "metadata": {},
   "source": [
    "# 7. Check whether the two arrays occupy same space <a class=\"anchor\" id=\"7-bullet\"></a>\n",
    "\n",
    "e = [1, 2, 3, 2, 3, 4, 4, 5, 6]\n",
    "\n",
    "f = [[1, 2, 3], [2, 3, 4], [4, 5, 6]]"
   ]
  },
  {
   "cell_type": "markdown",
   "metadata": {},
   "source": [
    "*answer*\n",
    "\n",
    "C) Print flags of both arrays by e.flags and f.flags; check the flag “OWNDATA”.\n",
    "\n",
    "**If one of them is False, then both the arrays have same space allocated.**"
   ]
  },
  {
   "cell_type": "code",
   "execution_count": 113,
   "metadata": {},
   "outputs": [
    {
     "data": {
      "text/plain": [
       "  C_CONTIGUOUS : True\n",
       "  F_CONTIGUOUS : True\n",
       "  OWNDATA : True\n",
       "  WRITEABLE : True\n",
       "  ALIGNED : True\n",
       "  UPDATEIFCOPY : False"
      ]
     },
     "execution_count": 113,
     "metadata": {},
     "output_type": "execute_result"
    }
   ],
   "source": [
    "e = np.array([1, 2, 3, 2, 3, 4, 4, 5, 6])\n",
    "f =  np.array([[1, 2, 3], [2, 3, 4], [4, 5, 6]])\n",
    "e.flags"
   ]
  },
  {
   "cell_type": "code",
   "execution_count": 111,
   "metadata": {
    "collapsed": true
   },
   "outputs": [],
   "source": [
    "if e.flags == 'False' or f.flags == 'False':\n",
    "    print('Both have same space allocated')\n",
    "    # don't have same space since this statement not printed"
   ]
  },
  {
   "cell_type": "markdown",
   "metadata": {},
   "source": [
    "# 8. Joining Datasets <a class=\"anchor\" id=\"8-bullet\"></a>\n",
    "Suppose you want to join train and test dataset (both are two numpy arrays train_set and test_set) into a resulting array (resulting_set) to do data processing on it simultaneously. \n",
    "\n",
    "train_set = np.array([1, 2, 3])\n",
    "test_set = np.array([[0, 1, 2], [1, 2, 3]])\n",
    "result = np.vstack([train_set,test_set])\n",
    "result\n",
    "help(np.vstack) # we see that vstack takes in a tuple of arrays!\n",
    " vertical stacking means that we increase the size vertically!"
   ]
  },
  {
   "cell_type": "markdown",
   "metadata": {},
   "source": [
    "** to merge dataframes, use pd.concat or dataframe.merge()**\n",
    "\n",
    "**Merge works like this**"
   ]
  },
  {
   "cell_type": "code",
   "execution_count": 166,
   "metadata": {},
   "outputs": [
    {
     "ename": "NameError",
     "evalue": "name 'A' is not defined",
     "output_type": "error",
     "traceback": [
      "\u001b[1;31m---------------------------------------------------------------------------\u001b[0m",
      "\u001b[1;31mNameError\u001b[0m                                 Traceback (most recent call last)",
      "\u001b[1;32m<ipython-input-166-e31f47f7f62f>\u001b[0m in \u001b[0;36m<module>\u001b[1;34m()\u001b[0m\n\u001b[1;32m----> 1\u001b[1;33m \u001b[0mA\u001b[0m\u001b[1;33m.\u001b[0m\u001b[0mmerge\u001b[0m\u001b[1;33m(\u001b[0m\u001b[0mB\u001b[0m\u001b[1;33m,\u001b[0m \u001b[0mleft_on\u001b[0m\u001b[1;33m=\u001b[0m\u001b[1;34m'lkey'\u001b[0m\u001b[1;33m,\u001b[0m \u001b[0mright_on\u001b[0m\u001b[1;33m=\u001b[0m\u001b[1;34m'rkey'\u001b[0m\u001b[1;33m,\u001b[0m \u001b[0mhow\u001b[0m\u001b[1;33m=\u001b[0m\u001b[1;34m'outer'\u001b[0m\u001b[1;33m)\u001b[0m\u001b[1;33m\u001b[0m\u001b[0m\n\u001b[0m",
      "\u001b[1;31mNameError\u001b[0m: name 'A' is not defined"
     ]
    }
   ],
   "source": [
    "A.merge(B, left_on='lkey', right_on='rkey', how='outer')"
   ]
  },
  {
   "cell_type": "markdown",
   "metadata": {},
   "source": [
    "# 9. Filling in and Operating w Missing Values  <a class=\"anchor\" id=\"9-bullet\"></a>\n",
    "\n",
    "#How can you find the number of missing values in the column “LoanAmount”?\n",
    "\n",
    "df.isnull().sum().LoanAmount # to see missing values in all Pandas columns"
   ]
  },
  {
   "cell_type": "markdown",
   "metadata": {},
   "source": [
    "## 9.1 Missing Values in Data Processing  <a class=\"anchor\" id=\"9.1-bullet\"></a>"
   ]
  },
  {
   "cell_type": "code",
   "execution_count": 97,
   "metadata": {},
   "outputs": [],
   "source": [
    "train['Cabin'].isnull().sum()/titanic.shape[0]\n",
    "# we see that 77 % of the titanic dataset has missing values\n",
    "\n",
    "train['Missing_Cabin'] = train.Cabin.isnull().astype(int)"
   ]
  },
  {
   "cell_type": "code",
   "execution_count": null,
   "metadata": {
    "collapsed": true
   },
   "outputs": [],
   "source": [
    "import numpy as np\n",
    "import pandas as pd\n",
    "df = pd.DataFrame({'Id':[1,2,3,4],'val':[2,5,np.nan,6]})\n",
    "df['new'] = np.nan\n",
    "# question --- what is the output when we manually check if a value equals nan (not a number)?\n",
    "print(df.val == np.nan)\n",
    "\n",
    "# ANSWER: WE ALWAYS GET FALSE SINCE NAN DOESN'T EQUAL TO ANYTHING, \n",
    "# that means np.nan == np.nan even gives FALSE\n",
    "#print(np.nan == np.nan) # yep!\n",
    "\n",
    "\n",
    "# DROPPING MISSING VALUES\n",
    "\n",
    "temp = df.dropna(axis=0,how='any',thresh=3) # thresh determines how many non missing values in a row\n",
    "# 3 remaining corresponds to shape[1]-3 missing, so write that\n",
    "\n"
   ]
  },
  {
   "cell_type": "code",
   "execution_count": null,
   "metadata": {
    "collapsed": true
   },
   "outputs": [],
   "source": [
    "# Filling in Missing values\n",
    "train['Age'] = train.groupby('Sex').transform(lambda x: x.fillna(x.mean())).Age\n"
   ]
  },
  {
   "cell_type": "markdown",
   "metadata": {},
   "source": [
    "## 9.2 Missing Values upon Reading Data  <a class=\"anchor\" id=\"9.2-bullet\"></a>\n",
    "While reading a csv file with numpy, you want to automatically fill missing values of column “Date_Of_Joining” with date “01/01/2010”\n",
    "Which command will be appropriate to fill missing value while reading the file with numpy? "
   ]
  },
  {
   "cell_type": "markdown",
   "metadata": {},
   "source": [
    "**Answer**\n",
    " \n",
    "filling_values = (\"-\", 0, 01/01/2010, 0)\n",
    "\n",
    "temp = np.genfromtxt(filename, filling_values=filling_values)\n",
    "\n",
    "help(np.genfromtxt)"
   ]
  },
  {
   "cell_type": "markdown",
   "metadata": {},
   "source": [
    "## 9.3 Using Non-null values <a class=\"anchor\" id=\"9.3-bullet\"></a>\n",
    "\n",
    "\n",
    "Creeating new dataframe based on non-null values in the first dataframe\n",
    "\n",
    "new_dataframe = train[~train.Credit_History.isnull()]"
   ]
  },
  {
   "cell_type": "markdown",
   "metadata": {},
   "source": [
    "# 10. Accessing Online Spreadsheet in Python <a class=\"anchor\" id=\"10-bullet\"></a>\n",
    "You have uploaded the dataset in csv format on google spreadsheet and shared it publicly. You want to access it in python, how can you do this?\n",
    "\n",
    "**Use the io library. StringIO is obsolete**"
   ]
  },
  {
   "cell_type": "markdown",
   "metadata": {},
   "source": []
  },
  {
   "cell_type": "markdown",
   "metadata": {},
   "source": [
    "# 12. Pandas -- Dataframes <a class=\"anchor\" id=\"12-bullet\"></a>\n",
    "Reading data into dataframe when no column names in file, but you know them -- use names argument"
   ]
  },
  {
   "cell_type": "code",
   "execution_count": 283,
   "metadata": {},
   "outputs": [
    {
     "data": {
      "text/html": [
       "<div>\n",
       "<style>\n",
       "    .dataframe thead tr:only-child th {\n",
       "        text-align: right;\n",
       "    }\n",
       "\n",
       "    .dataframe thead th {\n",
       "        text-align: left;\n",
       "    }\n",
       "\n",
       "    .dataframe tbody tr th {\n",
       "        vertical-align: top;\n",
       "    }\n",
       "</style>\n",
       "<table border=\"1\" class=\"dataframe\">\n",
       "  <thead>\n",
       "    <tr style=\"text-align: right;\">\n",
       "      <th></th>\n",
       "      <th>Click_Id</th>\n",
       "      <th>Click_Count</th>\n",
       "    </tr>\n",
       "  </thead>\n",
       "  <tbody>\n",
       "    <tr>\n",
       "      <th>0</th>\n",
       "      <td>A</td>\n",
       "      <td>100</td>\n",
       "    </tr>\n",
       "    <tr>\n",
       "      <th>1</th>\n",
       "      <td>B</td>\n",
       "      <td>200</td>\n",
       "    </tr>\n",
       "    <tr>\n",
       "      <th>2</th>\n",
       "      <td>C</td>\n",
       "      <td>300</td>\n",
       "    </tr>\n",
       "    <tr>\n",
       "      <th>3</th>\n",
       "      <td>D</td>\n",
       "      <td>400</td>\n",
       "    </tr>\n",
       "    <tr>\n",
       "      <th>4</th>\n",
       "      <td>E</td>\n",
       "      <td>250</td>\n",
       "    </tr>\n",
       "  </tbody>\n",
       "</table>\n",
       "</div>"
      ],
      "text/plain": [
       "  Click_Id  Click_Count\n",
       "0        A          100\n",
       "1        B          200\n",
       "2        C          300\n",
       "3        D          400\n",
       "4        E          250"
      ]
     },
     "execution_count": 283,
     "metadata": {},
     "output_type": "execute_result"
    }
   ],
   "source": [
    "# %%timeit # for timing chunks\n",
    "# RENAMING PANDAS COLUMN NEEDS OUTPUT!\n",
    "df = pd.DataFrame({'Click_Id':['A','B','C','D','E'],'Count':[100,200,300,400,250]})\n",
    "df2 = df.rename(columns = {'Count':'Click_Count'})\n",
    "df2"
   ]
  },
  {
   "cell_type": "markdown",
   "metadata": {},
   "source": [
    "pd.read_csv(\"train.csv\", header=None, names=['Item_Identifier' ,'Item_Weight' ,'Item_Fat_Content', 'Item_Visibility'])\n",
    "\n",
    "*to skip rows, use skiprows = 3 (skips 3 rows)*\n",
    "\n",
    "if dataset too big, then read only first n rows (nrows = 500), like this:\n",
    "\n",
    "train = pd.read_csv('train.csv', nrows=500)"
   ]
  },
  {
   "cell_type": "code",
   "execution_count": 108,
   "metadata": {},
   "outputs": [
    {
     "name": "stdout",
     "output_type": "stream",
     "text": [
      "      area    capital       country  population\n",
      "BR   8.516   Brasilia        Brazil      200.40\n",
      "RU  17.100     Moscow        Russia      143.50\n",
      "IN   3.286  New Dehli         India     1252.00\n",
      "CH   9.597    Beijing         China     1357.00\n",
      "SA   1.221   Pretoria  South Africa       52.98\n"
     ]
    }
   ],
   "source": [
    "\n",
    "dict = {\"country\": [\"Brazil\", \"Russia\", \"India\", \"China\", \"South Africa\"],\n",
    "       \"capital\": [\"Brasilia\", \"Moscow\", \"New Dehli\", \"Beijing\", \"Pretoria\"],\n",
    "       \"area\": [8.516, 17.10, 3.286, 9.597, 1.221],\n",
    "       \"population\": [200.4, 143.5, 1252, 1357, 52.98] }\n",
    "\n",
    "import pandas as pd\n",
    "brics = pd.DataFrame(dict)\n",
    "brics.index = [\"BR\", \"RU\", \"IN\", \"CH\", \"SA\"] # rownames as index\n",
    "print(brics)\n",
    "brics.describe()\n",
    "\n",
    "import numpy as np\n",
    "np.random.seed(100)\n",
    "df = pd.DataFrame()\n",
    "df['id'] = [1,1,1,2,2,3,3,3,3,4,4,5]\n",
    "df['view'] = ['A', 'B', 'A', 'A','B', 'A', 'B', 'A', 'A','B', 'A', 'B']\n",
    "df['value'] = np.random.random(12)\n",
    "\n",
    "df2 = pd.DataFrame({ 'A' : 1.,\n",
    "   'B' : pd.Timestamp('20130102'),\n",
    "   'C' : pd.Series(1,index=list(range(4)),dtype='float32'),\n",
    "              'D' : np.array([3] * 4,dtype='int32'),\n",
    "                  'E' : pd.Categorical([\"test\",\"train\",\"test\",\"train\"]),\n",
    "                'F' : 'foo' })\n"
   ]
  },
  {
   "cell_type": "markdown",
   "metadata": {},
   "source": [
    "## 12.1 Pandas -- Adding data, Aggregating. Transform-Command <a class=\"anchor\" id=\"12.1-bullet\"></a>"
   ]
  },
  {
   "cell_type": "code",
   "execution_count": 88,
   "metadata": {},
   "outputs": [
    {
     "data": {
      "text/plain": [
       "203"
      ]
     },
     "execution_count": 88,
     "metadata": {},
     "output_type": "execute_result"
    }
   ],
   "source": [
    "# http://pbpython.com/pandas_transform.html\n",
    "train['Age'] = train.groupby('Sex').transform(lambda x: x.fillna(x.mean())).Age\n",
    "# transform command is used after group by and apply (function applied to groups)\n",
    "# then we could want to combine the summary done on groups into original size\n"
   ]
  },
  {
   "cell_type": "code",
   "execution_count": null,
   "metadata": {
    "collapsed": true
   },
   "outputs": [],
   "source": [
    "brics['capital'].apply(lambda x: pd.Categorical(x))\n",
    "brics.describe() # we see that describe works only for numerical variables\n",
    "brics = brics.append({'area':9.0, 'capital':'Brasilia','country':'Brazil','population':195.00}, ignore_index=True)\n",
    "\n",
    "\n",
    "res = df.groupby(['id', 'view'])['value'].mean().reset_index() # 2 \n",
    "res2 = df.groupby(['id', 'view']).agg({'value':'mean'})\n",
    "\n",
    "res2.values == res.values\n",
    "#print(res2)\n",
    "#print(res) # we see that mean has been calculated correctly"
   ]
  },
  {
   "cell_type": "markdown",
   "metadata": {},
   "source": [
    "** Finding total amount of boys and girls for year 1880 (index)**"
   ]
  },
  {
   "cell_type": "code",
   "execution_count": null,
   "metadata": {
    "collapsed": true
   },
   "outputs": [],
   "source": [
    "\n",
    "train.groupby(['Year','Gender']).size().loc[1880]"
   ]
  },
  {
   "cell_type": "markdown",
   "metadata": {},
   "source": [
    "Count how many columns are categorical --- OBJECT -- columns"
   ]
  },
  {
   "cell_type": "markdown",
   "metadata": {},
   "source": [
    "## 12.2 Pandas - Recoding: w Map and Replace <a class=\"anchor\" id=\"12.2-bullet\"></a>"
   ]
  },
  {
   "cell_type": "code",
   "execution_count": 12,
   "metadata": {},
   "outputs": [
    {
     "data": {
      "text/html": [
       "<div>\n",
       "<style>\n",
       "    .dataframe thead tr:only-child th {\n",
       "        text-align: right;\n",
       "    }\n",
       "\n",
       "    .dataframe thead th {\n",
       "        text-align: left;\n",
       "    }\n",
       "\n",
       "    .dataframe tbody tr th {\n",
       "        vertical-align: top;\n",
       "    }\n",
       "</style>\n",
       "<table border=\"1\" class=\"dataframe\">\n",
       "  <thead>\n",
       "    <tr style=\"text-align: right;\">\n",
       "      <th></th>\n",
       "      <th>Id</th>\n",
       "      <th>val</th>\n",
       "      <th>new</th>\n",
       "    </tr>\n",
       "  </thead>\n",
       "  <tbody>\n",
       "    <tr>\n",
       "      <th>0</th>\n",
       "      <td>1</td>\n",
       "      <td>0.0</td>\n",
       "      <td>NaN</td>\n",
       "    </tr>\n",
       "    <tr>\n",
       "      <th>1</th>\n",
       "      <td>2</td>\n",
       "      <td>0.0</td>\n",
       "      <td>NaN</td>\n",
       "    </tr>\n",
       "    <tr>\n",
       "      <th>2</th>\n",
       "      <td>3</td>\n",
       "      <td>NaN</td>\n",
       "      <td>NaN</td>\n",
       "    </tr>\n",
       "    <tr>\n",
       "      <th>3</th>\n",
       "      <td>4</td>\n",
       "      <td>6.0</td>\n",
       "      <td>NaN</td>\n",
       "    </tr>\n",
       "  </tbody>\n",
       "</table>\n",
       "</div>"
      ],
      "text/plain": [
       "   Id  val  new\n",
       "0   1  0.0  NaN\n",
       "1   2  0.0  NaN\n",
       "2   3  NaN  NaN\n",
       "3   4  6.0  NaN"
      ]
     },
     "execution_count": 12,
     "metadata": {},
     "output_type": "execute_result"
    }
   ],
   "source": [
    "0 # type conversion -- use astype command\n",
    "train['Item_Fat_Content'] = train['Item_Fat_Content'].astype('category')\n",
    "\n",
    "# 1ST WAY TO RECODE - USE REPLACE_function\n",
    "dictrep = {2.0:0.0,5.0:0.0}\n",
    "df.loc[:,'val'] = df.val.replace(dictrep) # USE THE REPLACE command on the column, with dictionary of values\n",
    "df\n",
    "\n",
    "# 2nd way to RECODE -- MAP-FUNCTION\n",
    "\n",
    "# titanic.Sex = titanic.Sex.map({'male':1,'female':0}).astype(int)\n",
    "\n",
    "# 3RD USE: APPLY:\n",
    "#train['Age'] = train.Age.apply(lambda x: np.array(x.split('-'), dtype=int).mean())\n",
    "\n",
    "#4RD USE: Say you have light tickets in format ABC 023402 etc, then you can do\n",
    "# train.Ticket.str.split(' ').str[-1]  ---- to take the last part of the split vector to get numeric\n",
    "train = titanic\n",
    "flightnumber = train.Ticket.str.split(' ').str[-1]\n",
    "flightnumber[1]"
   ]
  },
  {
   "cell_type": "code",
   "execution_count": 168,
   "metadata": {},
   "outputs": [
    {
     "data": {
      "text/html": [
       "<div>\n",
       "<style>\n",
       "    .dataframe thead tr:only-child th {\n",
       "        text-align: right;\n",
       "    }\n",
       "\n",
       "    .dataframe thead th {\n",
       "        text-align: left;\n",
       "    }\n",
       "\n",
       "    .dataframe tbody tr th {\n",
       "        vertical-align: top;\n",
       "    }\n",
       "</style>\n",
       "<table border=\"1\" class=\"dataframe\">\n",
       "  <thead>\n",
       "    <tr style=\"text-align: right;\">\n",
       "      <th></th>\n",
       "      <th>id</th>\n",
       "      <th>view</th>\n",
       "      <th>value</th>\n",
       "    </tr>\n",
       "  </thead>\n",
       "  <tbody>\n",
       "    <tr>\n",
       "      <th>0</th>\n",
       "      <td>1</td>\n",
       "      <td>A</td>\n",
       "      <td>0.543405</td>\n",
       "    </tr>\n",
       "    <tr>\n",
       "      <th>2</th>\n",
       "      <td>1</td>\n",
       "      <td>A</td>\n",
       "      <td>0.424518</td>\n",
       "    </tr>\n",
       "    <tr>\n",
       "      <th>3</th>\n",
       "      <td>2</td>\n",
       "      <td>A</td>\n",
       "      <td>0.844776</td>\n",
       "    </tr>\n",
       "    <tr>\n",
       "      <th>5</th>\n",
       "      <td>3</td>\n",
       "      <td>A</td>\n",
       "      <td>0.121569</td>\n",
       "    </tr>\n",
       "    <tr>\n",
       "      <th>7</th>\n",
       "      <td>3</td>\n",
       "      <td>A</td>\n",
       "      <td>0.825853</td>\n",
       "    </tr>\n",
       "    <tr>\n",
       "      <th>8</th>\n",
       "      <td>3</td>\n",
       "      <td>A</td>\n",
       "      <td>0.136707</td>\n",
       "    </tr>\n",
       "    <tr>\n",
       "      <th>10</th>\n",
       "      <td>4</td>\n",
       "      <td>A</td>\n",
       "      <td>0.891322</td>\n",
       "    </tr>\n",
       "  </tbody>\n",
       "</table>\n",
       "</div>"
      ],
      "text/plain": [
       "    id view     value\n",
       "0    1    A  0.543405\n",
       "2    1    A  0.424518\n",
       "3    2    A  0.844776\n",
       "5    3    A  0.121569\n",
       "7    3    A  0.825853\n",
       "8    3    A  0.136707\n",
       "10   4    A  0.891322"
      ]
     },
     "execution_count": 168,
     "metadata": {},
     "output_type": "execute_result"
    }
   ],
   "source": [
    "df.columns\n",
    "\n",
    "(df.dtypes == 'object').sum()\n",
    "# now how to subset only these columns? Use double list notation\n",
    "df[df.view=='A'] # calling with one list brackets means filtering ROWS\n",
    "# df.query('view == A') # ALTERNATIVE WAY\n",
    "\n",
    "\n",
    "# what if I need to filter by columns, by say their name?"
   ]
  },
  {
   "cell_type": "markdown",
   "metadata": {},
   "source": [
    "# 12.3 Pandas Apply Usage <a class=\"anchor\" id=\"12.3-bullet\"></a>\n"
   ]
  },
  {
   "cell_type": "code",
   "execution_count": null,
   "metadata": {
    "collapsed": true
   },
   "outputs": [],
   "source": [
    "**Read documentation** : https://pandas.pydata.org/pandas-docs/stable/generated/pandas.DataFrame.apply.html\n",
    "Imagine, you have a dataframe train file with 2 columns & 3 rows, which is loaded in pandas.\n",
    "train  = pd.DataFrame({'id':[1,2,4],'features':[[\"A\",\"B\",\"C\"],[\"A\",\"D\",\"E\"],[\"C\",\"D\",\"F\"]]})\n",
    "train['features_t'] = train[\"features\"].apply(lambda x: \" \".join([\"_\".join(i.split(\" \")) for i in x])) # using apply \n",
    "\n",
    "What will be the output of following print command?\n",
    "print train['features_t']v"
   ]
  },
  {
   "cell_type": "code",
   "execution_count": null,
   "metadata": {
    "collapsed": true
   },
   "outputs": [],
   "source": [
    "import pandas as pd\n",
    "train  = pd.DataFrame({'id':[1,2,4],'features':[[\"A\",\"B\",\"C\"],[\"A\",\"D\",\"E\"],[\"C\",\"D\",\"F\"]]})\n",
    "train['features_t'] = train[\"features\"].apply(lambda x: \" \".join([\"_\".join(i.split(\" \")) for i in x])) # using apply \n",
    "print(train['features'])"
   ]
  },
  {
   "cell_type": "markdown",
   "metadata": {},
   "source": [
    "## 12.4 Pandas -- Data Types and Filtering <a class=\"anchor\" id=\"12.4-bullet\"></a>\n",
    "\n",
    "\n"
   ]
  },
  {
   "cell_type": "markdown",
   "metadata": {},
   "source": [
    "**Filtering out duplicates**"
   ]
  },
  {
   "cell_type": "code",
   "execution_count": 171,
   "metadata": {},
   "outputs": [
    {
     "data": {
      "text/html": [
       "<div>\n",
       "<style>\n",
       "    .dataframe thead tr:only-child th {\n",
       "        text-align: right;\n",
       "    }\n",
       "\n",
       "    .dataframe thead th {\n",
       "        text-align: left;\n",
       "    }\n",
       "\n",
       "    .dataframe tbody tr th {\n",
       "        vertical-align: top;\n",
       "    }\n",
       "</style>\n",
       "<table border=\"1\" class=\"dataframe\">\n",
       "  <thead>\n",
       "    <tr style=\"text-align: right;\">\n",
       "      <th></th>\n",
       "      <th>id</th>\n",
       "      <th>view</th>\n",
       "      <th>value</th>\n",
       "    </tr>\n",
       "  </thead>\n",
       "  <tbody>\n",
       "    <tr>\n",
       "      <th>0</th>\n",
       "      <td>1</td>\n",
       "      <td>A</td>\n",
       "      <td>0.543405</td>\n",
       "    </tr>\n",
       "    <tr>\n",
       "      <th>3</th>\n",
       "      <td>2</td>\n",
       "      <td>A</td>\n",
       "      <td>0.844776</td>\n",
       "    </tr>\n",
       "    <tr>\n",
       "      <th>5</th>\n",
       "      <td>3</td>\n",
       "      <td>A</td>\n",
       "      <td>0.121569</td>\n",
       "    </tr>\n",
       "    <tr>\n",
       "      <th>9</th>\n",
       "      <td>4</td>\n",
       "      <td>B</td>\n",
       "      <td>0.575093</td>\n",
       "    </tr>\n",
       "    <tr>\n",
       "      <th>11</th>\n",
       "      <td>5</td>\n",
       "      <td>B</td>\n",
       "      <td>0.209202</td>\n",
       "    </tr>\n",
       "  </tbody>\n",
       "</table>\n",
       "</div>"
      ],
      "text/plain": [
       "    id view     value\n",
       "0    1    A  0.543405\n",
       "3    2    A  0.844776\n",
       "5    3    A  0.121569\n",
       "9    4    B  0.575093\n",
       "11   5    B  0.209202"
      ]
     },
     "execution_count": 171,
     "metadata": {},
     "output_type": "execute_result"
    }
   ],
   "source": [
    "df.drop_duplicates(subset=['id'], keep='first', inplace=True)\n",
    "df # we see only first instance of ID is kept"
   ]
  },
  {
   "cell_type": "markdown",
   "metadata": {},
   "source": [
    "** So to filter columns by data type, there are at least 3 options**"
   ]
  },
  {
   "cell_type": "code",
   "execution_count": 166,
   "metadata": {},
   "outputs": [
    {
     "data": {
      "text/html": [
       "<div>\n",
       "<style>\n",
       "    .dataframe thead tr:only-child th {\n",
       "        text-align: right;\n",
       "    }\n",
       "\n",
       "    .dataframe thead th {\n",
       "        text-align: left;\n",
       "    }\n",
       "\n",
       "    .dataframe tbody tr th {\n",
       "        vertical-align: top;\n",
       "    }\n",
       "</style>\n",
       "<table border=\"1\" class=\"dataframe\">\n",
       "  <thead>\n",
       "    <tr style=\"text-align: right;\">\n",
       "      <th></th>\n",
       "      <th>view</th>\n",
       "    </tr>\n",
       "  </thead>\n",
       "  <tbody>\n",
       "    <tr>\n",
       "      <th>0</th>\n",
       "      <td>A</td>\n",
       "    </tr>\n",
       "    <tr>\n",
       "      <th>1</th>\n",
       "      <td>B</td>\n",
       "    </tr>\n",
       "    <tr>\n",
       "      <th>2</th>\n",
       "      <td>A</td>\n",
       "    </tr>\n",
       "    <tr>\n",
       "      <th>3</th>\n",
       "      <td>A</td>\n",
       "    </tr>\n",
       "    <tr>\n",
       "      <th>4</th>\n",
       "      <td>B</td>\n",
       "    </tr>\n",
       "    <tr>\n",
       "      <th>5</th>\n",
       "      <td>A</td>\n",
       "    </tr>\n",
       "    <tr>\n",
       "      <th>6</th>\n",
       "      <td>B</td>\n",
       "    </tr>\n",
       "    <tr>\n",
       "      <th>7</th>\n",
       "      <td>A</td>\n",
       "    </tr>\n",
       "    <tr>\n",
       "      <th>8</th>\n",
       "      <td>A</td>\n",
       "    </tr>\n",
       "    <tr>\n",
       "      <th>9</th>\n",
       "      <td>B</td>\n",
       "    </tr>\n",
       "    <tr>\n",
       "      <th>10</th>\n",
       "      <td>A</td>\n",
       "    </tr>\n",
       "    <tr>\n",
       "      <th>11</th>\n",
       "      <td>B</td>\n",
       "    </tr>\n",
       "  </tbody>\n",
       "</table>\n",
       "</div>"
      ],
      "text/plain": [
       "   view\n",
       "0     A\n",
       "1     B\n",
       "2     A\n",
       "3     A\n",
       "4     B\n",
       "5     A\n",
       "6     B\n",
       "7     A\n",
       "8     A\n",
       "9     B\n",
       "10    A\n",
       "11    B"
      ]
     },
     "execution_count": 166,
     "metadata": {},
     "output_type": "execute_result"
    }
   ],
   "source": [
    "# OPTION 1: group data by its type to get a dict and then use that\n",
    "\n",
    "g = df.columns.to_series().groupby(df.dtypes).groups\n",
    "# convert all columns to series first and then group by their data type\n",
    "{key.name: val for key, val in g.items()}\n",
    "\n",
    "# OPTION2: use the special command select_dtypes\n",
    "df.select_dtypes(include=['object'])\n",
    "\n",
    "# OPTION 3: create a mask and use loc to filter\n",
    "\n",
    "mask = df.dtypes == 'object'\n",
    "mask\n",
    "\n",
    "df.loc[:,mask]\n"
   ]
  },
  {
   "cell_type": "code",
   "execution_count": 37,
   "metadata": {},
   "outputs": [
    {
     "data": {
      "text/html": [
       "<div>\n",
       "<style>\n",
       "    .dataframe thead tr:only-child th {\n",
       "        text-align: right;\n",
       "    }\n",
       "\n",
       "    .dataframe thead th {\n",
       "        text-align: left;\n",
       "    }\n",
       "\n",
       "    .dataframe tbody tr th {\n",
       "        vertical-align: top;\n",
       "    }\n",
       "</style>\n",
       "<table border=\"1\" class=\"dataframe\">\n",
       "  <thead>\n",
       "    <tr style=\"text-align: right;\">\n",
       "      <th></th>\n",
       "      <th>PassengerId</th>\n",
       "      <th>Survived</th>\n",
       "      <th>Pclass</th>\n",
       "      <th>Name</th>\n",
       "      <th>Sex</th>\n",
       "      <th>Age</th>\n",
       "      <th>SibSp</th>\n",
       "      <th>Parch</th>\n",
       "      <th>Ticket</th>\n",
       "      <th>Fare</th>\n",
       "      <th>Cabin</th>\n",
       "      <th>Embarked</th>\n",
       "    </tr>\n",
       "  </thead>\n",
       "  <tbody>\n",
       "    <tr>\n",
       "      <th>0</th>\n",
       "      <td>1</td>\n",
       "      <td>0</td>\n",
       "      <td>3</td>\n",
       "      <td>Braund, Mr. Owen Harris</td>\n",
       "      <td>1</td>\n",
       "      <td>22.0</td>\n",
       "      <td>1</td>\n",
       "      <td>0</td>\n",
       "      <td>A/5 21171</td>\n",
       "      <td>7.2500</td>\n",
       "      <td>NaN</td>\n",
       "      <td>S</td>\n",
       "    </tr>\n",
       "    <tr>\n",
       "      <th>1</th>\n",
       "      <td>2</td>\n",
       "      <td>1</td>\n",
       "      <td>1</td>\n",
       "      <td>Cumings, Mrs. John Bradley (Florence Briggs Th...</td>\n",
       "      <td>0</td>\n",
       "      <td>38.0</td>\n",
       "      <td>1</td>\n",
       "      <td>0</td>\n",
       "      <td>PC 17599</td>\n",
       "      <td>71.2833</td>\n",
       "      <td>C85</td>\n",
       "      <td>C</td>\n",
       "    </tr>\n",
       "    <tr>\n",
       "      <th>2</th>\n",
       "      <td>3</td>\n",
       "      <td>1</td>\n",
       "      <td>3</td>\n",
       "      <td>Heikkinen, Miss. Laina</td>\n",
       "      <td>0</td>\n",
       "      <td>26.0</td>\n",
       "      <td>0</td>\n",
       "      <td>0</td>\n",
       "      <td>STON/O2. 3101282</td>\n",
       "      <td>7.9250</td>\n",
       "      <td>NaN</td>\n",
       "      <td>S</td>\n",
       "    </tr>\n",
       "    <tr>\n",
       "      <th>3</th>\n",
       "      <td>4</td>\n",
       "      <td>1</td>\n",
       "      <td>1</td>\n",
       "      <td>Futrelle, Mrs. Jacques Heath (Lily May Peel)</td>\n",
       "      <td>0</td>\n",
       "      <td>35.0</td>\n",
       "      <td>1</td>\n",
       "      <td>0</td>\n",
       "      <td>113803</td>\n",
       "      <td>53.1000</td>\n",
       "      <td>C123</td>\n",
       "      <td>S</td>\n",
       "    </tr>\n",
       "    <tr>\n",
       "      <th>4</th>\n",
       "      <td>5</td>\n",
       "      <td>0</td>\n",
       "      <td>3</td>\n",
       "      <td>Allen, Mr. William Henry</td>\n",
       "      <td>1</td>\n",
       "      <td>35.0</td>\n",
       "      <td>0</td>\n",
       "      <td>0</td>\n",
       "      <td>373450</td>\n",
       "      <td>8.0500</td>\n",
       "      <td>NaN</td>\n",
       "      <td>S</td>\n",
       "    </tr>\n",
       "  </tbody>\n",
       "</table>\n",
       "</div>"
      ],
      "text/plain": [
       "   PassengerId  Survived  Pclass  \\\n",
       "0            1         0       3   \n",
       "1            2         1       1   \n",
       "2            3         1       3   \n",
       "3            4         1       1   \n",
       "4            5         0       3   \n",
       "\n",
       "                                                Name  Sex   Age  SibSp  Parch  \\\n",
       "0                            Braund, Mr. Owen Harris    1  22.0      1      0   \n",
       "1  Cumings, Mrs. John Bradley (Florence Briggs Th...    0  38.0      1      0   \n",
       "2                             Heikkinen, Miss. Laina    0  26.0      0      0   \n",
       "3       Futrelle, Mrs. Jacques Heath (Lily May Peel)    0  35.0      1      0   \n",
       "4                           Allen, Mr. William Henry    1  35.0      0      0   \n",
       "\n",
       "             Ticket     Fare Cabin Embarked  \n",
       "0         A/5 21171   7.2500   NaN        S  \n",
       "1          PC 17599  71.2833   C85        C  \n",
       "2  STON/O2. 3101282   7.9250   NaN        S  \n",
       "3            113803  53.1000  C123        S  \n",
       "4            373450   8.0500   NaN        S  "
      ]
     },
     "execution_count": 37,
     "metadata": {},
     "output_type": "execute_result"
    }
   ],
   "source": [
    "# use -s to search, like this: kaggle competitions list -s demand\n",
    "# https://www.kaggle.com/c/<competition-name>/rules -- NEED TO ACCEPT BEFOREHAND\n",
    "# read API for reference https://github.com/Kaggle/kaggle-api\n",
    "# 1.kaggle competitions list\n",
    "#2. kaggle competitions download -c titanic -p PATH\n",
    "# kaggle [-h] [-c COMPETITION] [-u USERNAME] [-p PASSWORD]\n",
    " #                  [-f FILENAME]\n",
    "# kaggle -h competitions\n",
    "import pandas as pd\n",
    "train = pd.read_csv(\"train.csv\")\n",
    "# counting people who have \n",
    "filtered = train[(train.Embarked == 'S') & (train.Sex == 'female')].shape[0]\n",
    "filtered\n",
    "# to submit your kaggle result, : kaggle competitions submit [-h] -c COMPETITION -f FILE -m MESSAGE\n",
    "\n",
    "titanic = pd.read_csv('titanic/train.csv')\n",
    "titanic.head()\n",
    "males22 = titanic[(titanic.Sex =='male') & (titanic.Age==22.0)]\n",
    " # The or and and python statements require truth-values. For pandas these are considered ambiguous so you should use \"bitwise\" | (or) or & (and) operations\n",
    "titanic.head()\n",
    "titanic.Sex = titanic.Sex.map({'male':1,'female':0}).astype(int)\n",
    "titanic.head()"
   ]
  },
  {
   "cell_type": "markdown",
   "metadata": {},
   "source": [
    "**dat.loc[:,'Name'] is view of original dataframe **\n",
    "\n",
    "dat['Name'] is a copy of original dataframe.\n"
   ]
  },
  {
   "cell_type": "markdown",
   "metadata": {},
   "source": [
    "\n"
   ]
  },
  {
   "cell_type": "markdown",
   "metadata": {},
   "source": [
    "# 15. Function Execution - Dynamic Typing <a class=\"anchor\" id=\"15-bullet\"></a>"
   ]
  },
  {
   "cell_type": "code",
   "execution_count": 170,
   "metadata": {
    "collapsed": true
   },
   "outputs": [],
   "source": [
    "def fun(x):\n",
    "    x[0] = 5\n",
    "    return x\n",
    "# guess the output of this print  (fun(g), g) -- i.e. if g is changed inside a function,\n",
    "# is it also updated dynamically in the workspace?"
   ]
  },
  {
   "cell_type": "code",
   "execution_count": 172,
   "metadata": {},
   "outputs": [
    {
     "name": "stdout",
     "output_type": "stream",
     "text": [
      "[5, 2, 3] [5, 2, 3]\n"
     ]
    }
   ],
   "source": [
    "g = [1,2,3]\n",
    "print(fun(g),g)"
   ]
  },
  {
   "cell_type": "markdown",
   "metadata": {},
   "source": [
    "## Yep! If an object is changed in a function, it is also changed in the workspace!"
   ]
  },
  {
   "cell_type": "markdown",
   "metadata": {},
   "source": [
    "# 16. Converting Monthly Data to Daily Data <a class=\"anchor\" id=\"16-bullet\"></a>\n",
    "For this, first you have to expand the data for every month (considering that every month has 30 days)\n",
    "Which of the following code would do this?"
   ]
  },
  {
   "cell_type": "code",
   "execution_count": 9,
   "metadata": {},
   "outputs": [
    {
     "name": "stdout",
     "output_type": "stream",
     "text": [
      "     area    capital       country  population\n",
      "0   8.516   Brasilia        Brazil      200.40\n",
      "1  17.100     Moscow        Russia      143.50\n",
      "2   3.286  New Dehli         India     1252.00\n",
      "3   9.597    Beijing         China     1357.00\n",
      "4   1.221   Pretoria  South Africa       52.98\n",
      "5   9.000   Brasilia        Brazil      195.00\n",
      "       area    capital       country  population\n",
      "0     8.516   Brasilia        Brazil      200.40\n",
      "1    17.100     Moscow        Russia      143.50\n",
      "2     3.286  New Dehli         India     1252.00\n",
      "3     9.597    Beijing         China     1357.00\n",
      "4     1.221   Pretoria  South Africa       52.98\n",
      "5     9.000   Brasilia        Brazil      195.00\n",
      "6     8.516   Brasilia        Brazil      200.40\n",
      "7    17.100     Moscow        Russia      143.50\n",
      "8     3.286  New Dehli         India     1252.00\n",
      "9     9.597    Beijing         China     1357.00\n",
      "10    1.221   Pretoria  South Africa       52.98\n",
      "11    9.000   Brasilia        Brazil      195.00\n",
      "12    8.516   Brasilia        Brazil      200.40\n",
      "13   17.100     Moscow        Russia      143.50\n",
      "14    3.286  New Dehli         India     1252.00\n",
      "15    9.597    Beijing         China     1357.00\n",
      "16    1.221   Pretoria  South Africa       52.98\n",
      "17    9.000   Brasilia        Brazil      195.00\n",
      "18    8.516   Brasilia        Brazil      200.40\n",
      "19   17.100     Moscow        Russia      143.50\n",
      "20    3.286  New Dehli         India     1252.00\n",
      "21    9.597    Beijing         China     1357.00\n",
      "22    1.221   Pretoria  South Africa       52.98\n",
      "23    9.000   Brasilia        Brazil      195.00\n",
      "24    8.516   Brasilia        Brazil      200.40\n",
      "25   17.100     Moscow        Russia      143.50\n",
      "26    3.286  New Dehli         India     1252.00\n",
      "27    9.597    Beijing         China     1357.00\n",
      "28    1.221   Pretoria  South Africa       52.98\n",
      "29    9.000   Brasilia        Brazil      195.00\n",
      "..      ...        ...           ...         ...\n",
      "150   8.516   Brasilia        Brazil      200.40\n",
      "151  17.100     Moscow        Russia      143.50\n",
      "152   3.286  New Dehli         India     1252.00\n",
      "153   9.597    Beijing         China     1357.00\n",
      "154   1.221   Pretoria  South Africa       52.98\n",
      "155   9.000   Brasilia        Brazil      195.00\n",
      "156   8.516   Brasilia        Brazil      200.40\n",
      "157  17.100     Moscow        Russia      143.50\n",
      "158   3.286  New Dehli         India     1252.00\n",
      "159   9.597    Beijing         China     1357.00\n",
      "160   1.221   Pretoria  South Africa       52.98\n",
      "161   9.000   Brasilia        Brazil      195.00\n",
      "162   8.516   Brasilia        Brazil      200.40\n",
      "163  17.100     Moscow        Russia      143.50\n",
      "164   3.286  New Dehli         India     1252.00\n",
      "165   9.597    Beijing         China     1357.00\n",
      "166   1.221   Pretoria  South Africa       52.98\n",
      "167   9.000   Brasilia        Brazil      195.00\n",
      "168   8.516   Brasilia        Brazil      200.40\n",
      "169  17.100     Moscow        Russia      143.50\n",
      "170   3.286  New Dehli         India     1252.00\n",
      "171   9.597    Beijing         China     1357.00\n",
      "172   1.221   Pretoria  South Africa       52.98\n",
      "173   9.000   Brasilia        Brazil      195.00\n",
      "174   8.516   Brasilia        Brazil      200.40\n",
      "175  17.100     Moscow        Russia      143.50\n",
      "176   3.286  New Dehli         India     1252.00\n",
      "177   9.597    Beijing         China     1357.00\n",
      "178   1.221   Pretoria  South Africa       52.98\n",
      "179   9.000   Brasilia        Brazil      195.00\n",
      "\n",
      "[180 rows x 4 columns]\n"
     ]
    }
   ],
   "source": [
    "print(brics)\n",
    "new_df = pd.concat([brics]*30, ignore_index=True)\n",
    "print(new_df)"
   ]
  },
  {
   "cell_type": "markdown",
   "metadata": {},
   "source": [
    "# 17. Pandas Rename -- Needs output!  <a class=\"anchor\" id=\"17-bullet\"></a>"
   ]
  },
  {
   "cell_type": "code",
   "execution_count": 186,
   "metadata": {},
   "outputs": [
    {
     "data": {
      "text/html": [
       "<div>\n",
       "<style>\n",
       "    .dataframe thead tr:only-child th {\n",
       "        text-align: right;\n",
       "    }\n",
       "\n",
       "    .dataframe thead th {\n",
       "        text-align: left;\n",
       "    }\n",
       "\n",
       "    .dataframe tbody tr th {\n",
       "        vertical-align: top;\n",
       "    }\n",
       "</style>\n",
       "<table border=\"1\" class=\"dataframe\">\n",
       "  <thead>\n",
       "    <tr style=\"text-align: right;\">\n",
       "      <th></th>\n",
       "      <th>Click_Id</th>\n",
       "      <th>Count</th>\n",
       "    </tr>\n",
       "  </thead>\n",
       "  <tbody>\n",
       "    <tr>\n",
       "      <th>0</th>\n",
       "      <td>A</td>\n",
       "      <td>100</td>\n",
       "    </tr>\n",
       "    <tr>\n",
       "      <th>1</th>\n",
       "      <td>B</td>\n",
       "      <td>200</td>\n",
       "    </tr>\n",
       "    <tr>\n",
       "      <th>2</th>\n",
       "      <td>C</td>\n",
       "      <td>300</td>\n",
       "    </tr>\n",
       "    <tr>\n",
       "      <th>3</th>\n",
       "      <td>D</td>\n",
       "      <td>400</td>\n",
       "    </tr>\n",
       "    <tr>\n",
       "      <th>4</th>\n",
       "      <td>E</td>\n",
       "      <td>250</td>\n",
       "    </tr>\n",
       "  </tbody>\n",
       "</table>\n",
       "</div>"
      ],
      "text/plain": [
       "  Click_Id  Count\n",
       "0        A    100\n",
       "1        B    200\n",
       "2        C    300\n",
       "3        D    400\n",
       "4        E    250"
      ]
     },
     "execution_count": 186,
     "metadata": {},
     "output_type": "execute_result"
    }
   ],
   "source": [
    "\n",
    "# What is the result of df.columns ?"
   ]
  },
  {
   "cell_type": "markdown",
   "metadata": {},
   "source": [
    "df2.head()\n",
    "df.head()\n",
    "**Answer: df.columns doesnt change the name, rename needs output variable**"
   ]
  },
  {
   "cell_type": "markdown",
   "metadata": {},
   "source": [
    "# 20. URL Reading -- Reading Webpage Title with BeautifulSoup  <a class=\"anchor\" id=\"20-bullet\"></a>"
   ]
  },
  {
   "cell_type": "code",
   "execution_count": 61,
   "metadata": {},
   "outputs": [
    {
     "name": "stdout",
     "output_type": "stream",
     "text": [
      "udacity/deep-learning: Repo for the Deep Learning Nanodegree Foundations program.\n"
     ]
    }
   ],
   "source": [
    "html_doc = \"\"\"\n",
    " <!DOCTYPE html>\n",
    " <htmllang=\"en\">\n",
    " <head>\n",
    " <metacharset=\"utf-8\">\n",
    " <metaname=\"viewport\" content=\"width=device-width\">\n",
    " <title>udacity/deep-learning: Repo for the Deep Learning Nanodegree Foundations program.</title>\n",
    " <linkrel=\"search\" type=\"application/opensearchdescription+xml\" href=\"/opensearch.xml\" title=\"GitHub\">\n",
    " <linkrel=\"fluid-icon\" href=\"https://github.com/fluidicon.png\" title=\"GitHub\">\n",
    " <metaproperty=\"fb:app_id\" content=\"1401488693436528\">  \n",
    " <linkrel=\"assets\" href=\"https://assets-cdn.github.com/\">   \n",
    " ... \n",
    "\n",
    "\"\"\"\n",
    "from bs4 import BeautifulSoup\n",
    "soup =BeautifulSoup(html_doc,'html.parser')\n",
    "print(soup.title.string)"
   ]
  },
  {
   "cell_type": "code",
   "execution_count": 87,
   "metadata": {},
   "outputs": [
    {
     "data": {
      "text/plain": [
       "<function pandas.core.reshape.pivot.crosstab>"
      ]
     },
     "execution_count": 87,
     "metadata": {},
     "output_type": "execute_result"
    }
   ],
   "source": []
  },
  {
   "cell_type": "markdown",
   "metadata": {
    "collapsed": true
   },
   "source": [
    "# 13. MACHINE LEARNING CASE STUDY  <a class=\"anchor\" id=\"13-bullet\"></a>\n",
    "https://machinelearningmastery.com/machine-learning-in-python-step-by-step/\n",
    "https://machinelearningmastery.com/start-here/"
   ]
  },
  {
   "cell_type": "code",
   "execution_count": 255,
   "metadata": {
    "collapsed": true
   },
   "outputs": [],
   "source": [
    "# Load libraries\n",
    "import pandas as pd\n",
    "from pandas.plotting import scatter_matrix\n",
    "import matplotlib.pyplot as plt\n",
    "from sklearn import model_selection\n",
    "from sklearn.metrics import classification_report\n",
    "from sklearn.metrics import confusion_matrix\n",
    "from sklearn.metrics import accuracy_score\n",
    "from sklearn.linear_model import LogisticRegression\n",
    "from sklearn.tree import DecisionTreeClassifier\n",
    "from sklearn.neighbors import KNeighborsClassifier\n",
    "from sklearn.discriminant_analysis import LinearDiscriminantAnalysis\n",
    "from sklearn.naive_bayes import GaussianNB\n",
    "from sklearn.svm import SVC"
   ]
  },
  {
   "cell_type": "code",
   "execution_count": 257,
   "metadata": {},
   "outputs": [
    {
     "name": "stdout",
     "output_type": "stream",
     "text": [
      "       sepal-length  sepal-width  petal-length  petal-width\n",
      "count    150.000000   150.000000    150.000000   150.000000\n",
      "mean       5.843333     3.054000      3.758667     1.198667\n",
      "std        0.828066     0.433594      1.764420     0.763161\n",
      "min        4.300000     2.000000      1.000000     0.100000\n",
      "25%        5.100000     2.800000      1.600000     0.300000\n",
      "50%        5.800000     3.000000      4.350000     1.300000\n",
      "75%        6.400000     3.300000      5.100000     1.800000\n",
      "max        7.900000     4.400000      6.900000     2.500000\n"
     ]
    }
   ],
   "source": [
    "url = \"https://archive.ics.uci.edu/ml/machine-learning-databases/iris/iris.data\"\n",
    "names = ['sepal-length', 'sepal-width', 'petal-length', 'petal-width', 'class']\n",
    "dataset = pd.read_csv(url, names=names)\n",
    "# descriptions\n",
    "print(dataset.describe())"
   ]
  },
  {
   "cell_type": "code",
   "execution_count": 258,
   "metadata": {},
   "outputs": [
    {
     "name": "stdout",
     "output_type": "stream",
     "text": [
      "class\n",
      "Iris-setosa        50\n",
      "Iris-versicolor    50\n",
      "Iris-virginica     50\n",
      "dtype: int64\n"
     ]
    }
   ],
   "source": [
    "# class distribution\n",
    "print(dataset.groupby('class').size())"
   ]
  },
  {
   "cell_type": "markdown",
   "metadata": {},
   "source": [
    "## 13.0 ML: uNI/Multivariate Plotting  <a class=\"anchor\" id=\"13.0-bullet\"></a>"
   ]
  },
  {
   "cell_type": "code",
   "execution_count": 262,
   "metadata": {},
   "outputs": [
    {
     "data": {
      "image/png": "[encoded data removed]",
      "text/plain": [
       "<matplotlib.figure.Figure at 0x2c5caa80b00>"
      ]
     },
     "metadata": {},
     "output_type": "display_data"
    },
    {
     "data": {
      "image/png": "[encoded data removed]",
      "text/plain": [
       "<matplotlib.figure.Figure at 0x2c5c847d4e0>"
      ]
     },
     "metadata": {},
     "output_type": "display_data"
    }
   ],
   "source": [
    "# univariate plotting\n",
    "\n",
    "dataset.plot(kind='box', subplots=True, layout=(2,2), sharex=False, sharey=False)\n",
    "plt.show()\n",
    "\n",
    "# histograms\n",
    "dataset.hist()\n",
    "plt.show()"
   ]
  },
  {
   "cell_type": "code",
   "execution_count": 263,
   "metadata": {},
   "outputs": [
    {
     "data": {
      "image/png": "[encoded data removed]",
      "text/plain": [
       "<matplotlib.figure.Figure at 0x2c5c9cbcb70>"
      ]
     },
     "metadata": {},
     "output_type": "display_data"
    }
   ],
   "source": [
    "# MULTIVARIATE PLOTTING\n",
    "\t\n",
    "scatter_matrix(dataset)\n",
    "plt.show()"
   ]
  },
  {
   "cell_type": "markdown",
   "metadata": {},
   "source": [
    "## 13.1 ML: DATA SPLITTING  <a class=\"anchor\" id=\"13.1-bullet\"></a>"
   ]
  },
  {
   "cell_type": "code",
   "execution_count": 270,
   "metadata": {
    "collapsed": true
   },
   "outputs": [],
   "source": [
    "# Split-out validation dataset\n",
    "array = dataset.values\n",
    "X = array[:,0:4]\n",
    "Y = array[:,4]\n",
    "validation_size = 0.20\n",
    "seed = 7\n",
    "X_train, X_test, Y_train, Y_test = model_selection.train_test_split(X, Y, test_size=validation_size, random_state=seed)"
   ]
  },
  {
   "cell_type": "markdown",
   "metadata": {},
   "source": [
    "## 13.2 ML CLASSIFICATION: MODEL BUILDING AND COMPARISON  <a class=\"anchor\" id=\"13.2-bullet\"></a>\n",
    "\n",
    "** Note that there is no separate train-command. All happens in the cross_val_score command ! **"
   ]
  },
  {
   "cell_type": "code",
   "execution_count": 267,
   "metadata": {},
   "outputs": [
    {
     "name": "stdout",
     "output_type": "stream",
     "text": [
      "LR: 0.966667 (0.040825)\n",
      "LDA: 0.975000 (0.038188)\n",
      "KNN: 0.983333 (0.033333)\n",
      "CART: 0.975000 (0.038188)\n",
      "NB: 0.975000 (0.053359)\n",
      "SVM: 0.991667 (0.025000)\n"
     ]
    }
   ],
   "source": [
    "seed = 7\n",
    "scoring = 'accuracy'\n",
    "\n",
    "\n",
    "# Spot Check Algorithms\n",
    "models = []\n",
    "models.append(('LR', LogisticRegression()))\n",
    "models.append(('LDA', LinearDiscriminantAnalysis()))\n",
    "models.append(('KNN', KNeighborsClassifier()))\n",
    "models.append(('CART', DecisionTreeClassifier()))\n",
    "models.append(('NB', GaussianNB()))\n",
    "models.append(('SVM', SVC()))\n",
    "# evaluate each model in turn\n",
    "results = []\n",
    "names = []\n",
    "for name, model in models:\n",
    "\tkfold = model_selection.KFold(n_splits=10, random_state=seed)\n",
    "\tcv_results = model_selection.cross_val_score(model, X_train, Y_train, cv=kfold, scoring=scoring)\n",
    "\tresults.append(cv_results)\n",
    "\tnames.append(name)\n",
    "\tmsg = \"%s: %f (%f)\" % (name, cv_results.mean(), cv_results.std())\n",
    "\tprint(msg)\n",
    "\n",
    "    \n"
   ]
  },
  {
   "cell_type": "markdown",
   "metadata": {},
   "source": [
    "## 13.3 ML: Comparing Algorithms visually  <a class=\"anchor\" id=\"13.3-bullet\"></a>"
   ]
  },
  {
   "cell_type": "code",
   "execution_count": 268,
   "metadata": {},
   "outputs": [
    {
     "data": {
      "image/png": "[encoded data removed]",
      "text/plain": [
       "<matplotlib.figure.Figure at 0x2c5ca028780>"
      ]
     },
     "metadata": {},
     "output_type": "display_data"
    }
   ],
   "source": [
    "# results contain all the JACK-KNIFE/CV-ERRORS ON ALL of the 10 subsets. We plot these results:\n",
    "\n",
    "fig = plt.figure()\n",
    "fig.suptitle('Algorithm Comparison')\n",
    "ax = fig.add_subplot(111)\n",
    "plt.boxplot(results)\n",
    "ax.set_xticklabels(names)\n",
    "plt.show()"
   ]
  },
  {
   "cell_type": "markdown",
   "metadata": {},
   "source": [
    "## 13.4 ML: MAKING PREDICTIONS ON TEST DATA  <a class=\"anchor\" id=\"13.4-bullet\"></a>"
   ]
  },
  {
   "cell_type": "code",
   "execution_count": 272,
   "metadata": {},
   "outputs": [
    {
     "name": "stdout",
     "output_type": "stream",
     "text": [
      "0.9\n",
      "[[ 7  0  0]\n",
      " [ 0 11  1]\n",
      " [ 0  2  9]]\n",
      "                 precision    recall  f1-score   support\n",
      "\n",
      "    Iris-setosa       1.00      1.00      1.00         7\n",
      "Iris-versicolor       0.85      0.92      0.88        12\n",
      " Iris-virginica       0.90      0.82      0.86        11\n",
      "\n",
      "    avg / total       0.90      0.90      0.90        30\n",
      "\n"
     ]
    }
   ],
   "source": [
    "# Make predictions on TEST dataset -- KNN WAS THE WINNER:\n",
    "knn = KNeighborsClassifier()\n",
    "knn.fit(X_train, Y_train)\n",
    "predictions = knn.predict(X_test)\n",
    "print(accuracy_score(Y_test, predictions))\n",
    "print(confusion_matrix(Y_test, predictions))\n",
    "print(classification_report(Y_test, predictions))"
   ]
  },
  {
   "cell_type": "code",
   "execution_count": null,
   "metadata": {
    "collapsed": true
   },
   "outputs": [],
   "source": []
  }
 ],
 "metadata": {
  "kernelspec": {
   "display_name": "Python 3",
   "language": "python",
   "name": "python3"
  },
  "language_info": {
   "codemirror_mode": {
    "name": "ipython",
    "version": 3
   },
   "file_extension": ".py",
   "mimetype": "text/x-python",
   "name": "python",
   "nbconvert_exporter": "python",
   "pygments_lexer": "ipython3",
   "version": "3.6.3"
  }
 },
 "nbformat": 4,
 "nbformat_minor": 2
}
